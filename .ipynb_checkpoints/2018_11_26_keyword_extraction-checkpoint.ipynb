{
 "cells": [
  {
   "cell_type": "markdown",
   "metadata": {},
   "source": [
    "__Keyphrase extraction__\n",
    "- Can be supervised or unsupervised;\n",
    "- Can be used for terminology extraction, bulding of domain-specific dictionaries, clustering, search, summarization etc.\n",
    "\n",
    "- Two main steps:\n",
    "    - Selection of keyphrase-candidates\n",
    "    - Ranking of selected candidates\n",
    "    \n",
    "- Datasets\n",
    "    - https://github.com/snkim/AutomaticKeyphraseExtraction\n",
    "    - https://scienceie.github.io/resources.html\n",
    "        \n",
    "- Resources \n",
    "    - [Automatic Keyphrase Extraction: A Survey of the State of the Art](http://www.hlt.utdallas.edu/~saidul/acl14.pdf)\n",
    "    - [Conundrums in Unsupervised Keyphrase Extraction:\n",
    "Making Sense of the State-of-the-Art](http://www.hlt.utdallas.edu/~vince/papers/coling10-keyphrase.pdf)"
   ]
  },
  {
   "cell_type": "markdown",
   "metadata": {},
   "source": [
    "# Selection of keyphrase-candidates\n",
    "- Not all words and phrases in a document are equally likely to convey its content;\n",
    "- __Reduces the computational time__ for next steps;\n",
    "- Approach: heuristic rules for __POS-based__ candidate keyphrase chunking, removal of stopwords, etc."
   ]
  },
  {
   "cell_type": "code",
   "execution_count": 1,
   "metadata": {},
   "outputs": [],
   "source": [
    "from IPython.core.interactiveshell import InteractiveShell\n",
    "InteractiveShell.ast_node_interactivity = \"all\""
   ]
  },
  {
   "cell_type": "code",
   "execution_count": 2,
   "metadata": {},
   "outputs": [],
   "source": [
    "import nltk\n",
    "# nltk.download('averaged_perceptron_tagger')\n",
    "\n",
    "import string\n",
    "import itertools\n",
    "\n",
    "stopwords = nltk.corpus.stopwords.words('english')"
   ]
  },
  {
   "cell_type": "code",
   "execution_count": 3,
   "metadata": {},
   "outputs": [],
   "source": [
    "def _trees_to_keyphrases(parsed_chunks):\n",
    "    \"\"\"\n",
    "    Helper method to extract keyphrases as space-separated text from the trees of parsed chunks.\n",
    "    \"\"\"\n",
    "    # Convert extracted to flat (CONLL - Begining, Inside, Outside of chunk) format\n",
    "    chunks2conll = [nltk.chunk.tree2conlltags(_chunk) for _chunk in parsed_chunks]\n",
    "    \n",
    "    chunks2groups = [(key, list(group)) for _sent in chunks2conll \n",
    "                     for key, group in itertools.groupby(_sent, lambda x : x[2] != 'O')]\n",
    "    \n",
    "    # Get only the keyphrases:\n",
    "    keyphrases = [\" \".join(x[0] for x in group) for key, group in chunks2groups if key]\n",
    "    keyphrases = [_kp for _kp in keyphrases if all(_s not in string.punctuation for _s in _kp)]\n",
    "    \n",
    "    return keyphrases\n",
    "    \n",
    "    \n",
    "def select_by_pos_tag(sentences, regexp, verbose=False):\n",
    "    # POS-tag sentences \n",
    "    pos_tagged_sentences = [nltk.pos_tag(_sentence) for _sentence in sentences]\n",
    "    if verbose: print(\"1. Pos-tagged sentences: \", pos_tagged_sentences[0])\n",
    "    \n",
    "    # Extract chunks matching the regexp from the sentences\n",
    "    chunker = nltk.chunk.regexp.RegexpParser(regexp)\n",
    "    sentence_chunks = [chunker.parse(_sentence) for _sentence in pos_tagged_sentences]\n",
    "    if verbose: print(\"2. Extracted chunks: \", sentence_chunks[0])\n",
    "    \n",
    "    # Extract the keyphrases from the tree format\n",
    "    candidates = _trees_to_keyphrases(sentence_chunks)\n",
    "    if verbose: print(\"3. Extracted keyphrases:\", candidates[:10])\n",
    "    \n",
    "    return set(candidates)"
   ]
  },
  {
   "cell_type": "code",
   "execution_count": 4,
   "metadata": {
    "scrolled": true
   },
   "outputs": [
    {
     "name": "stdout",
     "output_type": "stream",
     "text": [
      "Example input:  ['THAI', 'TRADE', 'DEFICIT', 'WIDENS', 'IN', 'FIRST', 'QUARTER', 'Thailand', \"'\", 's', 'trade', 'deficit', 'widened', 'to', '4', '.', '5', 'billion', 'baht', 'in', 'the', 'first', 'quarter', 'of', '1987', 'from', '2', '.', '1', 'billion', 'a', 'year', 'ago', ',', 'the', 'Business', 'Economics', 'Department', 'said', '.']\n",
      "1. Pos-tagged sentences:  [('THAI', 'NNP'), ('TRADE', 'NNP'), ('DEFICIT', 'NNP'), ('WIDENS', 'NNP'), ('IN', 'NNP'), ('FIRST', 'NNP'), ('QUARTER', 'NNP'), ('Thailand', 'NNP'), (\"'\", 'POS'), ('s', 'NN'), ('trade', 'NN'), ('deficit', 'NN'), ('widened', 'VBD'), ('to', 'TO'), ('4', 'CD'), ('.', '.'), ('5', 'CD'), ('billion', 'CD'), ('baht', 'NNS'), ('in', 'IN'), ('the', 'DT'), ('first', 'JJ'), ('quarter', 'NN'), ('of', 'IN'), ('1987', 'CD'), ('from', 'IN'), ('2', 'CD'), ('.', '.'), ('1', 'CD'), ('billion', 'CD'), ('a', 'DT'), ('year', 'NN'), ('ago', 'RB'), (',', ','), ('the', 'DT'), ('Business', 'NNP'), ('Economics', 'NNP'), ('Department', 'NNP'), ('said', 'VBD'), ('.', '.')]\n",
      "2. Extracted chunks:  (S\n",
      "  THAI/NNP\n",
      "  TRADE/NNP\n",
      "  DEFICIT/NNP\n",
      "  WIDENS/NNP\n",
      "  IN/NNP\n",
      "  FIRST/NNP\n",
      "  QUARTER/NNP\n",
      "  Thailand/NNP\n",
      "  '/POS\n",
      "  s/NN\n",
      "  trade/NN\n",
      "  deficit/NN\n",
      "  widened/VBD\n",
      "  to/TO\n",
      "  4/CD\n",
      "  ./.\n",
      "  5/CD\n",
      "  billion/CD\n",
      "  baht/NNS\n",
      "  in/IN\n",
      "  the/DT\n",
      "  (KT first/JJ quarter/NN)\n",
      "  of/IN\n",
      "  1987/CD\n",
      "  from/IN\n",
      "  2/CD\n",
      "  ./.\n",
      "  1/CD\n",
      "  billion/CD\n",
      "  a/DT\n",
      "  year/NN\n",
      "  ago/RB\n",
      "  ,/,\n",
      "  the/DT\n",
      "  Business/NNP\n",
      "  Economics/NNP\n",
      "  Department/NNP\n",
      "  said/VBD\n",
      "  ./.)\n",
      "3. Extracted keyphrases: ['first quarter', 'pct increase', 's oil', 'first quarter', 'first quarter', 'high export', 'senior ministry', 'protected rice', 'new business', 'Japanese import']\n"
     ]
    }
   ],
   "source": [
    "corn_sentences = nltk.corpus.reuters.sents(categories='corn')\n",
    "print(\"Example input: \", corn_sentences[0])\n",
    "\n",
    "grammar = r'KT: {(<JJ> <NN>)}'\n",
    "candidates = select_by_pos_tag(corn_sentences, grammar, verbose=True)"
   ]
  },
  {
   "cell_type": "markdown",
   "metadata": {},
   "source": [
    "-  Check __TreeBank POS tags__ here: https://www.ling.upenn.edu/courses/Fall_2003/ling001/penn_treebank_pos.html\n",
    "- __JJ__ - Adjective; __NN__ - Noun, singular; __IN__ - Preposition/Conjunction\n",
    "- $(<JJ> <NN>)$  - adjective followed up by a noun in a singular form"
   ]
  },
  {
   "cell_type": "code",
   "execution_count": 5,
   "metadata": {},
   "outputs": [
    {
     "name": "stdout",
     "output_type": "stream",
     "text": [
      "$: dollar\n",
      "    $ -$ --$ A$ C$ HK$ M$ NZ$ S$ U.S.$ US$\n",
      "'': closing quotation mark\n",
      "    ' ''\n",
      "(: opening parenthesis\n",
      "    ( [ {\n",
      "): closing parenthesis\n",
      "    ) ] }\n",
      ",: comma\n",
      "    ,\n",
      "--: dash\n",
      "    --\n",
      ".: sentence terminator\n",
      "    . ! ?\n",
      ":: colon or ellipsis\n",
      "    : ; ...\n",
      "CC: conjunction, coordinating\n",
      "    & 'n and both but either et for less minus neither nor or plus so\n",
      "    therefore times v. versus vs. whether yet\n",
      "CD: numeral, cardinal\n",
      "    mid-1890 nine-thirty forty-two one-tenth ten million 0.5 one forty-\n",
      "    seven 1987 twenty '79 zero two 78-degrees eighty-four IX '60s .025\n",
      "    fifteen 271,124 dozen quintillion DM2,000 ...\n",
      "DT: determiner\n",
      "    all an another any both del each either every half la many much nary\n",
      "    neither no some such that the them these this those\n",
      "EX: existential there\n",
      "    there\n",
      "FW: foreign word\n",
      "    gemeinschaft hund ich jeux habeas Haementeria Herr K'ang-si vous\n",
      "    lutihaw alai je jour objets salutaris fille quibusdam pas trop Monte\n",
      "    terram fiche oui corporis ...\n",
      "IN: preposition or conjunction, subordinating\n",
      "    astride among uppon whether out inside pro despite on by throughout\n",
      "    below within for towards near behind atop around if like until below\n",
      "    next into if beside ...\n",
      "JJ: adjective or numeral, ordinal\n",
      "    third ill-mannered pre-war regrettable oiled calamitous first separable\n",
      "    ectoplasmic battery-powered participatory fourth still-to-be-named\n",
      "    multilingual multi-disciplinary ...\n",
      "JJR: adjective, comparative\n",
      "    bleaker braver breezier briefer brighter brisker broader bumper busier\n",
      "    calmer cheaper choosier cleaner clearer closer colder commoner costlier\n",
      "    cozier creamier crunchier cuter ...\n",
      "JJS: adjective, superlative\n",
      "    calmest cheapest choicest classiest cleanest clearest closest commonest\n",
      "    corniest costliest crassest creepiest crudest cutest darkest deadliest\n",
      "    dearest deepest densest dinkiest ...\n",
      "LS: list item marker\n",
      "    A A. B B. C C. D E F First G H I J K One SP-44001 SP-44002 SP-44005\n",
      "    SP-44007 Second Third Three Two * a b c d first five four one six three\n",
      "    two\n",
      "MD: modal auxiliary\n",
      "    can cannot could couldn't dare may might must need ought shall should\n",
      "    shouldn't will would\n",
      "NN: noun, common, singular or mass\n",
      "    common-carrier cabbage knuckle-duster Casino afghan shed thermostat\n",
      "    investment slide humour falloff slick wind hyena override subhumanity\n",
      "    machinist ...\n",
      "NNP: noun, proper, singular\n",
      "    Motown Venneboerger Czestochwa Ranzer Conchita Trumplane Christos\n",
      "    Oceanside Escobar Kreisler Sawyer Cougar Yvette Ervin ODI Darryl CTCA\n",
      "    Shannon A.K.C. Meltex Liverpool ...\n",
      "NNPS: noun, proper, plural\n",
      "    Americans Americas Amharas Amityvilles Amusements Anarcho-Syndicalists\n",
      "    Andalusians Andes Andruses Angels Animals Anthony Antilles Antiques\n",
      "    Apache Apaches Apocrypha ...\n",
      "NNS: noun, common, plural\n",
      "    undergraduates scotches bric-a-brac products bodyguards facets coasts\n",
      "    divestitures storehouses designs clubs fragrances averages\n",
      "    subjectivists apprehensions muses factory-jobs ...\n",
      "PDT: pre-determiner\n",
      "    all both half many quite such sure this\n",
      "POS: genitive marker\n",
      "    ' 's\n",
      "PRP: pronoun, personal\n",
      "    hers herself him himself hisself it itself me myself one oneself ours\n",
      "    ourselves ownself self she thee theirs them themselves they thou thy us\n",
      "PRP$: pronoun, possessive\n",
      "    her his mine my our ours their thy your\n",
      "RB: adverb\n",
      "    occasionally unabatingly maddeningly adventurously professedly\n",
      "    stirringly prominently technologically magisterially predominately\n",
      "    swiftly fiscally pitilessly ...\n",
      "RBR: adverb, comparative\n",
      "    further gloomier grander graver greater grimmer harder harsher\n",
      "    healthier heavier higher however larger later leaner lengthier less-\n",
      "    perfectly lesser lonelier longer louder lower more ...\n",
      "RBS: adverb, superlative\n",
      "    best biggest bluntest earliest farthest first furthest hardest\n",
      "    heartiest highest largest least less most nearest second tightest worst\n",
      "RP: particle\n",
      "    aboard about across along apart around aside at away back before behind\n",
      "    by crop down ever fast for forth from go high i.e. in into just later\n",
      "    low more off on open out over per pie raising start teeth that through\n",
      "    under unto up up-pp upon whole with you\n",
      "SYM: symbol\n",
      "    % & ' '' ''. ) ). * + ,. < = > @ A[fj] U.S U.S.S.R * ** ***\n",
      "TO: \"to\" as preposition or infinitive marker\n",
      "    to\n",
      "UH: interjection\n",
      "    Goodbye Goody Gosh Wow Jeepers Jee-sus Hubba Hey Kee-reist Oops amen\n",
      "    huh howdy uh dammit whammo shucks heck anyways whodunnit honey golly\n",
      "    man baby diddle hush sonuvabitch ...\n",
      "VB: verb, base form\n",
      "    ask assemble assess assign assume atone attention avoid bake balkanize\n",
      "    bank begin behold believe bend benefit bevel beware bless boil bomb\n",
      "    boost brace break bring broil brush build ...\n",
      "VBD: verb, past tense\n",
      "    dipped pleaded swiped regummed soaked tidied convened halted registered\n",
      "    cushioned exacted snubbed strode aimed adopted belied figgered\n",
      "    speculated wore appreciated contemplated ...\n",
      "VBG: verb, present participle or gerund\n",
      "    telegraphing stirring focusing angering judging stalling lactating\n",
      "    hankerin' alleging veering capping approaching traveling besieging\n",
      "    encrypting interrupting erasing wincing ...\n",
      "VBN: verb, past participle\n",
      "    multihulled dilapidated aerosolized chaired languished panelized used\n",
      "    experimented flourished imitated reunifed factored condensed sheared\n",
      "    unsettled primed dubbed desired ...\n",
      "VBP: verb, present tense, not 3rd person singular\n",
      "    predominate wrap resort sue twist spill cure lengthen brush terminate\n",
      "    appear tend stray glisten obtain comprise detest tease attract\n",
      "    emphasize mold postpone sever return wag ...\n",
      "VBZ: verb, present tense, 3rd person singular\n",
      "    bases reconstructs marks mixes displeases seals carps weaves snatches\n",
      "    slumps stretches authorizes smolders pictures emerges stockpiles\n",
      "    seduces fizzes uses bolsters slaps speaks pleads ...\n",
      "WDT: WH-determiner\n",
      "    that what whatever which whichever\n",
      "WP: WH-pronoun\n",
      "    that what whatever whatsoever which who whom whosoever\n",
      "WP$: WH-pronoun, possessive\n",
      "    whose\n",
      "WRB: Wh-adverb\n",
      "    how however whence whenever where whereby whereever wherein whereof why\n",
      "``: opening quotation mark\n",
      "    ` ``\n"
     ]
    }
   ],
   "source": [
    "# nltk.download('tagsets')\n",
    "nltk.help.upenn_tagset()"
   ]
  },
  {
   "cell_type": "markdown",
   "metadata": {},
   "source": [
    "__Exercise__: modify the regular expression to observe keyphrases that :\n",
    "- Include Nouns in __Plural form__\n",
    "- Multiple adjectives before a Noun\n",
    "- Multiple adjectives followed by one or more Nouns\n",
    "- A group of the latter joined with one more such group by a preposition"
   ]
  },
  {
   "cell_type": "markdown",
   "metadata": {},
   "source": [
    "__Exercise__: Further preprocessing of candidates:\n",
    "- Add a parameter to limit by number of words in a keyphrase;\n",
    "- Remove candidates containing punctuation or any other inappropriate occurrences;\n",
    "- Remove candidates containing more that a number of stopwords."
   ]
  },
  {
   "cell_type": "markdown",
   "metadata": {},
   "source": [
    "# Ranking of selected candidates \n",
    "- TF-IDF weighting;\n",
    "- PMI scoring;\n",
    "- Text ranking:\n",
    "    - [TextRank: Bringing Order into Texts](http://web.eecs.umich.edu/~mihalcea/papers/mihalcea.emnlp04.pdf)\n",
    "    - [PositionRank: An Unsupervised Approach to Keyphrase Extraction from Scholarly Documents](http://aclweb.org/anthology/P/P17/P17-1102.pdf)\n",
    "    - [Topical Word Importance for Fast Keyphrase Extraction](https://core.ac.uk/download/pdf/55828317.pdf)\n",
    "    \n",
    "$ S(v_i) = (1 - d) + d * \\sum_{j \\in In(v_i)}{\\frac{1}{|Out(v_j)|}}S(v_j) $\n",
    "\n",
    "    - where v_i is a given word, In(v_i) are the words that co-occur with this word"
   ]
  },
  {
   "cell_type": "markdown",
   "metadata": {},
   "source": [
    "## TF-IDF"
   ]
  },
  {
   "cell_type": "code",
   "execution_count": 8,
   "metadata": {},
   "outputs": [],
   "source": [
    "from sklearn.feature_extraction.text import TfidfVectorizer\n",
    "from collections import defaultdict, Counter\n",
    "\n",
    "def score_keyphrases_by_tfidf(texts, candidates, squashing_func=sum):\n",
    "    vectorizer = TfidfVectorizer(ngram_range=(1,3), vocabulary=candidates)\n",
    "    train_corpus = vectorizer.fit_transform(texts)\n",
    "    \n",
    "    kp_tfidfs = defaultdict(lambda: [])\n",
    "    for kp in candidates:\n",
    "        kp_tfidfs[kp] += [train_corpus[0].toarray()[0][vectorizer.vocabulary_[kp]]]\n",
    "    \n",
    "    squashed_results = {_kp: squashing_func(_v) for _kp, _v in kp_tfidfs.items()}\n",
    "    return squashed_results"
   ]
  },
  {
   "cell_type": "code",
   "execution_count": 9,
   "metadata": {},
   "outputs": [
    {
     "data": {
      "text/plain": [
       "[('first quarter', 0.507099511323441),\n",
       " ('quarter', 0.47246838336161556),\n",
       " ('first', 0.3637196325716628),\n",
       " ('trade', 0.291713126079065),\n",
       " ('business economics department', 0.28730713497886795),\n",
       " ('baht', 0.2617706633298379),\n",
       " ('thailand', 0.24115366725200899),\n",
       " ('business', 0.21307540569727884),\n",
       " ('department', 0.13525796970591397),\n",
       " ('year', 0.1156739760961278)]"
      ]
     },
     "execution_count": 9,
     "metadata": {},
     "output_type": "execute_result"
    }
   ],
   "source": [
    "kp_tfidfs = score_keyphrases_by_tfidf([\" \".join(corn_sent) for corn_sent in corn_sentences], candidates)\n",
    "Counter(kp_tfidfs).most_common(10)"
   ]
  },
  {
   "cell_type": "markdown",
   "metadata": {},
   "source": [
    "## Pointwise Mutual Information \n",
    "\n",
    "- how likely is it to encounter a __word in a specific category__?\n",
    "\n",
    "$ \\operatorname{PMI}(word, category) = \\log\\frac{p(word, category)}{p(word)p(category)} $ <br>"
   ]
  },
  {
   "cell_type": "code",
   "execution_count": 10,
   "metadata": {},
   "outputs": [],
   "source": [
    "# Which part can be removed from the formula in this setting?\n",
    "# Try to optimize the computations!\n",
    "def pmi(category):\n",
    "    category_files = nltk.corpus.reuters.fileids(category)\n",
    "    category_files_words = [_word for _fid in category_files for _word in nltk.corpus.reuters.words(_fid)]\n",
    "    total_number_of_words_in_category = len(category_files_words)\n",
    "    total_number_of_words = len(nltk.corpus.reuters.words())\n",
    "    \n",
    "    word_frequencies = Counter(category_files_words)\n",
    "    word_frequencies_in_category = Counter(nltk.corpus.reuters.words())\n",
    "    \n",
    "    word_pmis = {}\n",
    "    for word in set(category_files_words):\n",
    "        if word in string.punctuation or word in stopwords or len(word)<3:\n",
    "            continue\n",
    "        p_wc =  word_frequencies_in_category[word] / total_number_of_words_in_category\n",
    "        p_w = word_frequencies[word] / total_number_of_words\n",
    "        p_c = len(nltk.corpus.reuters.fileids(category)) / len(nltk.corpus.reuters.fileids())\n",
    "        word_pmis[word] = p_wc / (p_w * p_c)\n",
    "    return word_pmis"
   ]
  },
  {
   "cell_type": "code",
   "execution_count": 11,
   "metadata": {},
   "outputs": [
    {
     "name": "stdout",
     "output_type": "stream",
     "text": [
      "[('Bank', 516950426.5840708), ('January', 485355668.26548666), ('week', 462787983.7522124), ('Inc', 416900358.5752212), ('dlrs', 352958585.7876106), ('April', 297592533.11504424), ('six', 287662751.9292035), ('earlier', 283149215.0265487), ('agreed', 271414019.079646), ('International', 247341822.2654867), ('mln', 246698985.1914722), ('rate', 244332797.6637168), ('world', 238916553.38053095), ('statement', 235907528.77876103), ('offer', 231243540.64601767), ('debt', 229889479.5752212), ('reported', 228986772.19469023), ('FOR', 225375942.67256635), ('gain', 222968722.99115044), ('lower', 219357893.46902654)]\n",
      "[('Net', 4313736.091840396), ('stock', 2993204.63515456), ('NET', 1987814.5019483396), ('bank', 1878089.182842077), ('shares', 1610793.201996007), ('net', 1305220.947043101), ('loss', 1155433.1277050169), ('yen', 1064080.4201700354), ('shareholders', 1004114.2574026593), ('company', 935429.6099776152), ('Group', 834422.7755290206), ('Ltd', 771266.9232527416), ('economy', 720869.8290120744), ('Avg', 677490.0516909938), ('Nine', 672386.548476749), ('Record', 650696.6598162088), ('cts', 596884.721513069), ('German', 567764.7325847312), ('acquired', 556281.8503526804), ('international', 548626.5955313132)]\n"
     ]
    }
   ],
   "source": [
    "pmi_tea = pmi('tea')\n",
    "print(Counter(pmi_tea).most_common(20))\n",
    "\n",
    "pmi_corn = pmi('corn')\n",
    "print(Counter(pmi_corn).most_common(20))"
   ]
  },
  {
   "cell_type": "markdown",
   "metadata": {},
   "source": [
    "__Exercise__: Make more preprocessing steps, add bi-grams and normalization to make the extracted words more comprehensible."
   ]
  },
  {
   "cell_type": "markdown",
   "metadata": {},
   "source": [
    "### Other interpretations of PMI:\n",
    "- Used to build __sentiment lexicons__ - we can introduce the concept of __polarity__:\n",
    "    - Polarity(phrase) = PMI(phrase,\"positive\") − PMI(phrase,\"negative\"), \n",
    "    - Where positive and negative can be a __list of preselected words__\n",
    "    - We can make __several iterations__ to expand the lexicon, each time adding the newly discovered words  \n",
    "- We can make the PMI score __\"oriented\"__ (in case we have two categories and we want to have __one number__ for both)\n",
    "    - From the PMI of a phrase in a positive context, we __discard__ the PMI of a phrase in a negative context\n",
    "    - But difference of two logarithms is:\n",
    "$ PMI(phrase, \"positive\") = log2(\\frac{hits(phrase NEAR \"positive\")hits(\"negative\")}{hits(phrase NEAR \"negative\")hits(\"positive\")})$\n",
    "- Can be used to evaluate features\n",
    "- Can be used to find keyphrases - how likely is to have two words that co-occur."
   ]
  },
  {
   "cell_type": "markdown",
   "metadata": {},
   "source": [
    "__Exercise__: Using the Friends' transcripts corpus, which we already have been exploring, find:\n",
    "- Which are the most used words by Monica and which by Joey? - Try with all the methods we explored!\n",
    "- Can we say which are the words, which are most likely for Joey, but not for Monica, using the idea for \"Polarity\"?"
   ]
  }
 ],
 "metadata": {
  "kernelspec": {
   "display_name": "Python 3 (ipykernel)",
   "language": "python",
   "name": "python3"
  },
  "language_info": {
   "codemirror_mode": {
    "name": "ipython",
    "version": 3
   },
   "file_extension": ".py",
   "mimetype": "text/x-python",
   "name": "python",
   "nbconvert_exporter": "python",
   "pygments_lexer": "ipython3",
   "version": "3.9.11"
  },
  "toc": {
   "base_numbering": 1,
   "nav_menu": {},
   "number_sections": true,
   "sideBar": true,
   "skip_h1_title": false,
   "title_cell": "Table of Contents",
   "title_sidebar": "Contents",
   "toc_cell": false,
   "toc_position": {},
   "toc_section_display": true,
   "toc_window_display": false
  }
 },
 "nbformat": 4,
 "nbformat_minor": 2
}
