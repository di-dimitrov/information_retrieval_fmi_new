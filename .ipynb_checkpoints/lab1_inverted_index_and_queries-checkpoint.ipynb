{
 "cells": [
  {
   "cell_type": "markdown",
   "metadata": {},
   "source": [
    "# Revision of the whole indexing process"
   ]
  },
  {
   "cell_type": "markdown",
   "metadata": {},
   "source": [
    "![Sort-Based-Index](img/indexing-steps.png)"
   ]
  },
  {
   "cell_type": "markdown",
   "metadata": {},
   "source": [
    "# Preprocessing:"
   ]
  },
  {
   "cell_type": "code",
   "execution_count": 150,
   "metadata": {},
   "outputs": [],
   "source": [
    "from nltk.tokenize import sent_tokenize, TweetTokenizer\n",
    "from string import punctuation\n",
    "tokenizer = TweetTokenizer()\n",
    "\n",
    "def preprocess_document(content):\n",
    "    \"\"\"\n",
    "    Returns a list of tokens for a document's content. \n",
    "    Tokens should not contain punctuation and should be lower-cased.\n",
    "    \"\"\"\n",
    "    sentences = sent_tokenize(content)\n",
    "    tokens = []\n",
    "    for _sent in sentences:\n",
    "        sent_tokens = tokenizer.tokenize(_sent)\n",
    "        sent_tokens = [_tok.lower() for _tok in sent_tokens if _tok not in punctuation]\n",
    "        tokens += sent_tokens\n",
    "    return tokens"
   ]
  },
  {
   "cell_type": "code",
   "execution_count": 151,
   "metadata": {},
   "outputs": [
    {
     "data": {
      "text/plain": [
       "['path',\n",
       " 'cantaloupe.srv.cs.cmu.edu',\n",
       " 'crabapple.srv.cs.cmu.edu',\n",
       " 'fs7.ece.cmu.edu',\n",
       " 'europa.eng.gtefsd.com',\n",
       " 'howland.reston.ans.net',\n",
       " 'wupost',\n",
       " 'uunet',\n",
       " 'caen',\n",
       " 'rphroy']"
      ]
     },
     "execution_count": 151,
     "metadata": {},
     "output_type": "execute_result"
    }
   ],
   "source": [
    "preprocess_document(open('data/mini_newsgroups/rec.autos/101629').read())[:10]"
   ]
  },
  {
   "cell_type": "markdown",
   "metadata": {},
   "source": [
    "# Extract Pairs of (token, document_id) tuples \n",
    "These will eventually end up sorted by document_id."
   ]
  },
  {
   "cell_type": "code",
   "execution_count": 152,
   "metadata": {},
   "outputs": [],
   "source": [
    "from os import scandir # can be used for easier iteration of documents in a folder\n",
    "# can check is_file() on the objects returned by scan_dir \n",
    "# contain whole document path, so no need to join with the directory\n",
    "\n",
    "import os\n",
    "\n",
    "def get_token_doc_id_pairs(category_dir):\n",
    "    \"\"\"\n",
    "    Iteratively goes through the documents in the category_dir and constructs/returns:\n",
    "    1. A list of (token, doc_id) tuples\n",
    "    2. A dictionary of doc_id:doc_name\n",
    "    \"\"\"\n",
    "    tkn_docid = []\n",
    "    docid_docnm = {}\n",
    "    for i, document in enumerate(os.listdir(category_dir)):\n",
    "        with open(os.path.join(category_dir, document), errors='ignore') as outf:\n",
    "            tkn_docid += [(token,i) for token in preprocess_document(outf.read())]\n",
    "        docid_docnm[i] = document\n",
    "            \n",
    "    return (tkn_docid, docid_docnm)"
   ]
  },
  {
   "cell_type": "code",
   "execution_count": 153,
   "metadata": {},
   "outputs": [],
   "source": [
    "token_docid, doc_ids = get_token_doc_id_pairs('data/mini_newsgroups/rec.autos/')"
   ]
  },
  {
   "cell_type": "code",
   "execution_count": 154,
   "metadata": {},
   "outputs": [
    {
     "name": "stdout",
     "output_type": "stream",
     "text": [
      "101592\n"
     ]
    }
   ],
   "source": [
    "print(doc_ids[2])"
   ]
  },
  {
   "cell_type": "code",
   "execution_count": 155,
   "metadata": {},
   "outputs": [
    {
     "data": {
      "text/plain": [
       "[('path', 0),\n",
       " ('cantaloupe.srv.cs.cmu.edu', 0),\n",
       " ('das-news.harvard.edu', 0),\n",
       " ('ogicse', 0),\n",
       " ('uwm.edu', 0),\n",
       " ('wupost', 0),\n",
       " ('uunet', 0),\n",
       " ('world', 0),\n",
       " ('edwards', 0),\n",
       " ('from', 0)]"
      ]
     },
     "execution_count": 155,
     "metadata": {},
     "output_type": "execute_result"
    }
   ],
   "source": [
    "token_docid[:10]"
   ]
  },
  {
   "cell_type": "markdown",
   "metadata": {},
   "source": [
    "__Example output:__ <br>\n",
    "token_docid, doc_ids = get_token_doc_id_pairs('data/mini_newsgroups/rec.autos/')<br>\n",
    "print(doc_ids[2])<br>\n",
    "token_docid[:10]<br>\n",
    "\n",
    "> DirEntry '101577' <br>\n",
    ">[('newsgroups', 0),\n",
    "> ('rec.autos', 0),\n",
    "> ('path', 0),\n",
    "> ('cantaloupe.srv.cs.cmu.edu', 0),\n",
    "> ('magnesium.club.cc.cmu.edu', 0),\n",
    "> ('news.sei.cmu.edu', 0),\n",
    "> ('fs7.ece.cmu.edu', 0),\n",
    "> ('europa.eng.gtefsd.com', 0),\n",
    "> ('howland.reston.ans.net', 0),\n",
    "> ('ux1.cso.uiuc.edu', 0)]"
   ]
  },
  {
   "cell_type": "markdown",
   "metadata": {},
   "source": [
    "# Sort by token"
   ]
  },
  {
   "cell_type": "code",
   "execution_count": 156,
   "metadata": {},
   "outputs": [
    {
     "data": {
      "text/plain": [
       "[('zaphod.mps.ohio-state.edu', 97),\n",
       " ('zaphod.mps.ohio-state.edu', 98),\n",
       " ('zaphod.mps.ohio-state.edu', 99),\n",
       " ('zauberer', 57),\n",
       " ('zeolite', 40),\n",
       " ('zip', 49),\n",
       " ('zip', 49),\n",
       " ('zx', 79),\n",
       " ('zx-r', 94),\n",
       " (\"|'8\", 71)]"
      ]
     },
     "execution_count": 156,
     "metadata": {},
     "output_type": "execute_result"
    }
   ],
   "source": [
    "from operator import itemgetter\n",
    "from collections import defaultdict\n",
    "sorted_token_docid = sorted(token_docid, key=itemgetter(0))\n",
    "sorted_token_docid[-10:]"
   ]
  },
  {
   "cell_type": "markdown",
   "metadata": {},
   "source": [
    "# Merge token occurrences in a single document -> (token, doc_id, term_freq) tuples"
   ]
  },
  {
   "cell_type": "code",
   "execution_count": 157,
   "metadata": {},
   "outputs": [],
   "source": [
    "def merge_token_in_doc(sorted_token_docid):\n",
    "    \"\"\"\n",
    "    Returns a list of (token, doc_id, term_freq) tuples from a sorted list of (token, doc_id) list, \n",
    "    where if a token appears n times in a doc_id, we merge it in a tuple (toke, doc_id, n).\n",
    "    \"\"\"\n",
    "    tkn_docid_tf = []\n",
    "    temp_dict = defaultdict(lambda: 0)\n",
    "    for tkn, doc_id in sorted_token_docid:\n",
    "        temp_dict[tkn + '##' + str(doc_id)] += 1\n",
    "    for merged_str in temp_dict:\n",
    "        split = merged_str.split('##')\n",
    "        tkn_docid_tf.append((split[0],split[1],temp_dict[merged_str]))\n",
    "    \n",
    "    return tkn_docid_tf"
   ]
  },
  {
   "cell_type": "code",
   "execution_count": 158,
   "metadata": {},
   "outputs": [
    {
     "data": {
      "text/plain": [
       "[('zaphod.mps.ohio-state.edu', '96', 1),\n",
       " ('zaphod.mps.ohio-state.edu', '97', 1),\n",
       " ('zaphod.mps.ohio-state.edu', '98', 1),\n",
       " ('zaphod.mps.ohio-state.edu', '99', 1),\n",
       " ('zauberer', '57', 1),\n",
       " ('zeolite', '40', 1),\n",
       " ('zip', '49', 2),\n",
       " ('zx', '79', 1),\n",
       " ('zx-r', '94', 1),\n",
       " (\"|'8\", '71', 1)]"
      ]
     },
     "execution_count": 158,
     "metadata": {},
     "output_type": "execute_result"
    }
   ],
   "source": [
    "merged_token_in_docs = merge_token_in_doc(sorted_token_docid)\n",
    "merged_token_in_docs[-10:]"
   ]
  },
  {
   "cell_type": "markdown",
   "metadata": {},
   "source": [
    "__Example output:__ <br>\n",
    "\n",
    "merge_token_in_doc = merge_token_in_doc(sorted_token_docid) <br>\n",
    "merged_tokens_in_doc[-10:] <br>\n",
    "\n",
    ">[('zaphod.mps.ohio-state.edu', 96, 1),\n",
    " ('zaphod.mps.ohio-state.edu', 97, 1),\n",
    " ('zaphod.mps.ohio-state.edu', 98, 1),\n",
    " ('zaphod.mps.ohio-state.edu', 99, 1),\n",
    " ('zauberer', 47, 1),\n",
    " ('zeolite', 49, 1),\n",
    " ('zip', 77, 2),\n",
    " ('zx', 86, 1),\n",
    " ('zx-r', 57, 1),\n",
    " (\"|'8\", 70, 1)]"
   ]
  },
  {
   "cell_type": "markdown",
   "metadata": {},
   "source": [
    "# Split into Dictionary and Postings (usually linked lists for each word)"
   ]
  },
  {
   "cell_type": "code",
   "execution_count": 159,
   "metadata": {},
   "outputs": [],
   "source": [
    "from collections import defaultdict\n",
    "dictionary = defaultdict(lambda: (0, 0)) # term : doc_freq, tot freq\n",
    "postings = defaultdict(lambda: []) # term: doc_ids, doc_freq\n",
    "\n",
    "for token, doc_id, doc_freq in merged_token_in_docs:\n",
    "    dictionary[token] = (dictionary[token][0]+1, dictionary[token][0]+doc_freq)\n",
    "\n",
    "# usually implemented as linked lists\n",
    "for token, doc_id, doc_freq in merged_token_in_docs:\n",
    "    postings[token].append((doc_id, doc_freq)) "
   ]
  },
  {
   "cell_type": "code",
   "execution_count": 160,
   "metadata": {},
   "outputs": [
    {
     "data": {
      "text/plain": [
       "((1, 2), (51, 51))"
      ]
     },
     "execution_count": 160,
     "metadata": {},
     "output_type": "execute_result"
    }
   ],
   "source": [
    "dictionary['zip'], dictionary['zaphod.mps.ohio-state.edu']"
   ]
  },
  {
   "cell_type": "code",
   "execution_count": 161,
   "metadata": {
    "scrolled": true
   },
   "outputs": [
    {
     "data": {
      "text/plain": [
       "([('49', 2)], [('3', 1), ('14', 1), ('17', 1)])"
      ]
     },
     "execution_count": 161,
     "metadata": {},
     "output_type": "execute_result"
    }
   ],
   "source": [
    "postings['zip'], postings['zaphod.mps.ohio-state.edu'][:3]"
   ]
  },
  {
   "cell_type": "markdown",
   "metadata": {},
   "source": [
    "# Boolean Queries in the index"
   ]
  },
  {
   "cell_type": "markdown",
   "metadata": {},
   "source": [
    "## AND query: we want to find documents which contain both 'living' and 'dead' in them.\n",
    "\n",
    "We use a merging algorithm for conjunction queries, which simultaneously traverses the postings of the given words.\n",
    "\n",
    "- Living: 1 -> 2 -> 5 -> 17 -> 30 -> 31 -> 44 -> 45 -> 47\n",
    "- Dead: 5 -> 17 -> 44\n",
    "- Intersection: 5 -> 17 -> 44\n",
    "\n",
    "It takes __linear time__ over the number of documents the two words appear in. <br/>\n",
    "It is important to have postings for each word __sorted by document id__."
   ]
  },
  {
   "cell_type": "code",
   "execution_count": 141,
   "metadata": {},
   "outputs": [],
   "source": [
    "def and_query(postings, word1, word2):\n",
    "    \"\"\"\n",
    "    merging postings lists of two words\n",
    "    \"\"\"\n",
    "    postings_word1 = postings[word1]\n",
    "    postings_word2 = postings[word2]\n",
    "    \n",
    "    documents_results = []\n",
    "    \n",
    "    postings_ind1, postings_ind2 = 0, 0\n",
    "    while postings_ind1 < len(postings_word1) and postings_ind2 < len(postings_word2):\n",
    "        doc_id1, doc_id2 = postings_word1[postings_ind1][0], postings_word2[postings_ind2][0]\n",
    "        if doc_id1 == doc_id2:\n",
    "            documents_results.append(postings_word1[postings_ind1][0])\n",
    "            postings_ind1 += 1\n",
    "            postings_ind2 += 1\n",
    "        elif doc_id1 < doc_id2:\n",
    "            postings_ind1 += 1\n",
    "        elif doc_id1 > doc_id2:\n",
    "            postings_ind2 += 1\n",
    "    return documents_results"
   ]
  },
  {
   "cell_type": "code",
   "execution_count": 144,
   "metadata": {},
   "outputs": [
    {
     "data": {
      "text/plain": [
       "[36]"
      ]
     },
     "execution_count": 144,
     "metadata": {},
     "output_type": "execute_result"
    }
   ],
   "source": [
    "doc_id = and_query(postings, 'living', 'dead')\n",
    "doc_id"
   ]
  },
  {
   "cell_type": "code",
   "execution_count": 145,
   "metadata": {},
   "outputs": [
    {
     "data": {
      "text/plain": [
       "[(30, 1), (36, 1), (78, 1)]"
      ]
     },
     "execution_count": 145,
     "metadata": {},
     "output_type": "execute_result"
    }
   ],
   "source": [
    "postings['living']"
   ]
  },
  {
   "cell_type": "code",
   "execution_count": 146,
   "metadata": {},
   "outputs": [
    {
     "data": {
      "text/plain": [
       "[(29, 1), (36, 1), (65, 1)]"
      ]
     },
     "execution_count": 146,
     "metadata": {},
     "output_type": "execute_result"
    }
   ],
   "source": [
    "postings['dead']"
   ]
  },
  {
   "cell_type": "markdown",
   "metadata": {},
   "source": [
    "__Example Output:__ <br>\n",
    "\n",
    "doc_id = and_query(postings, 'living', 'dead') <br>\n",
    "doc_ids[doc_id[0]] <br>\n",
    "\n",
    "> DirEntry '102983'"
   ]
  },
  {
   "cell_type": "markdown",
   "metadata": {},
   "source": [
    "## Questions:\n",
    "\n",
    "- How about if we want to find a document containing N words? \n",
    "- What will be the execution time for queries with NOT/ OR and different combinations?\n",
    "- What are the downsides of boolean queries?"
   ]
  },
  {
   "cell_type": "markdown",
   "metadata": {},
   "source": [
    "## Advanced query features\n",
    "* We can optimize with : processing in order of increasing freq; skip pointers\n",
    "* Proximity\n",
    "* Zones\n",
    "* Phrase queries (bi-word indexes, positional indexes)"
   ]
  }
 ],
 "metadata": {
  "kernelspec": {
   "display_name": "Python 3 (ipykernel)",
   "language": "python",
   "name": "python3"
  },
  "language_info": {
   "codemirror_mode": {
    "name": "ipython",
    "version": 3
   },
   "file_extension": ".py",
   "mimetype": "text/x-python",
   "name": "python",
   "nbconvert_exporter": "python",
   "pygments_lexer": "ipython3",
   "version": "3.9.11"
  },
  "toc": {
   "base_numbering": 1,
   "nav_menu": {},
   "number_sections": true,
   "sideBar": true,
   "skip_h1_title": false,
   "title_cell": "Table of Contents",
   "title_sidebar": "Contents",
   "toc_cell": false,
   "toc_position": {},
   "toc_section_display": true,
   "toc_window_display": false
  }
 },
 "nbformat": 4,
 "nbformat_minor": 2
}
