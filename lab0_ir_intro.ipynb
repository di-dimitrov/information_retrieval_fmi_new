{
 "cells": [
  {
   "cell_type": "markdown",
   "metadata": {
    "slideshow": {
     "slide_type": "slide"
    }
   },
   "source": [
    "# Information Retrieval"
   ]
  },
  {
   "cell_type": "markdown",
   "metadata": {},
   "source": [
    "Information retrieval (IR) is finding material (usually documents) of an unstructured nature (usually text) that satisfies an information need from within large collections (usually stored on computers)."
   ]
  },
  {
   "cell_type": "markdown",
   "metadata": {},
   "source": [
    "![Sort-Based-Index](img/treclogo-c.gif)"
   ]
  },
  {
   "cell_type": "markdown",
   "metadata": {},
   "source": [
    "## Contact Details\n",
    "\n",
    "Boris Velichkov\n",
    "\n",
    "Dimitar Dimitrov:\n",
    "mitko.bg.ss@gmail.com /\n",
    "ilijanovd@fmi.uni-sofia.bg \n",
    "\n",
    "## What is the agenda for practical lessons ?\n",
    "\n",
    "* Course Intro\n",
    "* Intro to Python (Basic)\n",
    "* Text processing (Basic)\n",
    "* Indexing - Inverted Index \n",
    "* TF-IDF & Ranking\n",
    "* Metrics (Evaluation, Analysis)\n",
    "* Web crawling/scraping\n",
    "* Spell-checking & Keyword extraction\n",
    "* Summarization - Extractive & Abstractive \n",
    "* Classification (Features) - NB & Logistic Regression \n",
    "* Language models\n",
    "* Course project idea discussion\n",
    "    * Every practical lesson is potentially a project idea discussion!!!\n",
    "* Course project idea presentation"
   ]
  },
  {
   "cell_type": "markdown",
   "metadata": {},
   "source": [
    "# Conferences\n",
    "\n",
    "Special Interest Group on Information Retrieval: <a href='https://sigir.org'>SIGIR</a> <br>\n",
    "Text REtrieval Conference: <a href='https://trec.nist.gov/proceedings/proceedings.html'>TREC</a>  <br>\n",
    "European Conference on Information Retrieval: <a href='http://www.ecir2018.org/'>ECIR</a>  <br>\n",
    "Conference and Labs of the Evaluation Forum: <a href='https://www.clef-initiative.eu/'>CLEF</a>  <br>\n"
   ]
  },
  {
   "cell_type": "markdown",
   "metadata": {},
   "source": [
    "# Example papers:\n",
    "<ul>\n",
    "<li><a href='http://nrl.northumbria.ac.uk/30863/1/SIGIR2017_Elsweiler.pdf'>Exploiting Food Choice Biases for Healthier <b>Recipe Recommendation</b></a> -> dataset of food reciped with nutrition information crawled from Allrecipes.com\n",
    "<li>CitySearcher: A <b>City Search</b> Engine For Interests \n",
    "<li>A Test Collection for Evaluating <b>Legal Case Law Search</b>\n",
    "<li>Multihop Attention Networks for <b>Question Answer Matching</b>\n",
    "<li>Semantic Location in <b>Email Query Suggestion</b>\n",
    "<li>Online <b>Job Search</b>: Study of Users’ Search Behavior using Search Engine Query Logs\t\n",
    "</ul>"
   ]
  },
  {
   "cell_type": "markdown",
   "metadata": {},
   "source": [
    "# Most Valued Projects:\n",
    "\n",
    "- Something Useful for Sofia University, the Master's Degree, etc. (contact Prof. Koychev)\n",
    "- Participating in Shared Tasks (contact us or Prof. Koychev)\n",
    "\n",
    "## Some project ideas\n",
    "- Grammarly or [Hemingway](http://www.hemingwayapp.com/) for Bulgarian\n",
    "- !!!Collect/crawl questions and answers from exams after 4th/12th grade (there are a lot of on-line resources!). This will serve as a good stating point for building a Machine Reading/Question Answering model for Bulgarian!"
   ]
  },
  {
   "cell_type": "markdown",
   "metadata": {},
   "source": [
    "# Some Shared Tasks\n",
    "\n",
    "## <a href='http://alt.qcri.org/semeval2019/index.php?id=tasks'>SemEval</a>\n",
    "- Fact Checking in Community Question Answering Forums\n",
    "- Suggestion Mining from Online Reviews and Forums\n",
    "- RumourEval 2019: Determining Rumour Veracity and Support for Rumours\n",
    "- many more\n",
    "\n",
    "# CheckThat!"
   ]
  },
  {
   "cell_type": "markdown",
   "metadata": {},
   "source": [
    "# Basic (pre-)requisites\n",
    "\n",
    "## Python basics:\n",
    "- http://nbviewer.jupyter.org/github/justmarkham/python-reference/blob/master/reference.ipynb\n",
    "- https://www.cs.put.poznan.pl/csobaniec/software/python/py-qrc.html\n",
    "- https://www.stavros.io/tutorials/python/\n",
    "\n",
    "## Jupyter Notebooks\n",
    "- https://www.dataquest.io/blog/jupyter-notebook-tutorial/\n",
    "\n",
    "## Text Processing Libraries\n",
    "- NLTK - collection of libraries and tools for text processing, created by academics (not production ready)\n",
    "- Spacy - Industrial-Strength Natural Language Processing\n",
    "- scikit-learn - Machine Learning in Python\n",
    "- Pandas - Structures and data analysis tools for Python\n",
    "- Numpy - scientific computing with Python\n",
    "- Keras, TensorFlow, Pytorch- deep learning libraries for Python"
   ]
  },
  {
   "cell_type": "markdown",
   "metadata": {},
   "source": [
    "# Books:\n",
    "## Information Retrieval \n",
    "- Book for the course : https://nlp.stanford.edu/IR-book/information-retrieval-book.html\n",
    "## NLP\n",
    "- Foundations of Statistical Natural Language Processing https://nlp.stanford.edu/fsnlp/\n",
    "- Speech and Language Processing (you can find also Youtube videos https://web.stanford.edu/~jurafsky/slp3/ )"
   ]
  },
  {
   "cell_type": "markdown",
   "metadata": {},
   "source": [
    "# Online sources\n",
    "\n",
    "## Search for papers to find relevant work and existing approaches\n",
    "- https://scholar.google.com/\n",
    "- https://www.researchgate.net/\n",
    "\n",
    "## Corpora\n",
    "- https://toolbox.google.com/datasetsearch\n",
    "- https://www.kaggle.com/\n",
    "- https://archive.ics.uci.edu/ml/datasets.html\n",
    "\n",
    "## Facebook groups\n",
    "- https://www.facebook.com/groups/1034542806576291/\n",
    "- https://www.facebook.com/groups/829586007120477/\n",
    "- https://www.facebook.com/groups/machine.learning.bg/\n",
    "- https://www.facebook.com/datasciencesoc/\n",
    "\n",
    "## Misc\n",
    "- https://www.kdnuggets.com/\n",
    "- https://machinelearningmastery.com/start-here/\n",
    "- https://nlpprogress.com/ - latest research in NLP\n",
    "- https://paperswithcode.com/ - implementations of papers"
   ]
  },
  {
   "cell_type": "markdown",
   "metadata": {},
   "source": [
    "# Incidence Matrixes"
   ]
  },
  {
   "cell_type": "code",
   "execution_count": 1,
   "metadata": {},
   "outputs": [],
   "source": [
    "sample_bbc_news_sentences = [\n",
    "    \"China confirms Interpol chief detained\",\n",
    "    \"Turkish officials believe the Washington Post writer was killed in the Saudi consulate in Istanbul.\",\n",
    "    \"US wedding limousine crash kills 20\",\n",
    "    \"Bulgarian journalist killed in park\",\n",
    "    \"Kanye West deletes social media profiles\",\n",
    "    \"Brazilians vote in polarised election\",\n",
    "    \"Bull kills woman at French festival\",\n",
    "    \"Indonesia to wrap up tsunami search\",\n",
    "    \"Tina Turner reveals wedding night ordeal\",\n",
    "    \"Victory for Trump in Supreme Court battle\",\n",
    "    \"Clashes at German far-right rock concert\",\n",
    "    \"The Walking Dead, actor dies aged 76\",\n",
    "    \"Jogger in Netherlands finds lion cub\",\n",
    "    \"Monkey takes the wheel of Indian bus\"\n",
    "]"
   ]
  },
  {
   "cell_type": "code",
   "execution_count": 4,
   "metadata": {},
   "outputs": [
    {
     "data": {
      "text/plain": [
       "['China', 'confirms', 'Interpol', 'chief', 'detained']"
      ]
     },
     "execution_count": 4,
     "metadata": {},
     "output_type": "execute_result"
    }
   ],
   "source": [
    "#basic tokenization\n",
    "from nltk.tokenize import TweetTokenizer\n",
    "\n",
    "tokenizer = TweetTokenizer()\n",
    "sample_bbc_news_sentences_tokenized = [tokenizer.tokenize(sentence) \n",
    "                            for sentence in sample_bbc_news_sentences]\n",
    "temp=[]\n",
    "for sentence in sample_bbc_news_sentences:\n",
    "    temp.append(tokenizer.tokenize(sentence))\n",
    "\n",
    "sample_bbc_news_sentences_tokenized[0]"
   ]
  },
  {
   "cell_type": "code",
   "execution_count": 6,
   "metadata": {},
   "outputs": [
    {
     "data": {
      "text/plain": [
       "['china', 'confirms', 'interpol', 'chief', 'detained']"
      ]
     },
     "execution_count": 6,
     "metadata": {},
     "output_type": "execute_result"
    }
   ],
   "source": [
    "sample_bbc_news_sentences_tokenized_lower = [[_t.lower() \n",
    "                                              for _t in _s] \n",
    "                for _s in sample_bbc_news_sentences_tokenized]\n",
    "\n",
    "sample_bbc_news_sentences_tokenized_lower[0]"
   ]
  },
  {
   "cell_type": "code",
   "execution_count": 7,
   "metadata": {
    "scrolled": true
   },
   "outputs": [
    {
     "data": {
      "text/plain": [
       "82"
      ]
     },
     "execution_count": 7,
     "metadata": {},
     "output_type": "execute_result"
    }
   ],
   "source": [
    "#get all unique tokens\n",
    "# Step 1: Flatten (sum)\n",
    "# Step 2: Put in SET\n",
    "\n",
    "# [[token1,token2,...],[...],[...],...]\n",
    "unique_tokens = set(sum(sample_bbc_news_sentences_tokenized_lower, []))\n",
    "# [token1, token2,...,token_K+1]\n",
    "list(unique_tokens)[:5]\n",
    "len(unique_tokens)"
   ]
  },
  {
   "cell_type": "code",
   "execution_count": 11,
   "metadata": {
    "scrolled": true
   },
   "outputs": [
    {
     "name": "stdout",
     "output_type": "stream",
     "text": [
      "[[0 2 0 ... 1 0 1]\n",
      " [0 1 0 ... 0 0 0]\n",
      " [0 0 0 ... 0 0 0]\n",
      " ...\n",
      " [0 0 0 ... 0 0 0]\n",
      " [0 0 0 ... 0 0 0]\n",
      " [0 0 0 ... 0 0 0]]\n"
     ]
    }
   ],
   "source": [
    "# create incidence matrix (term-document frequency)\n",
    "import numpy as np\n",
    "incidence_matrix = np.array([[sent.count(token)\n",
    "                      for sent in sample_bbc_news_sentences_tokenized_lower] \n",
    "                for token in unique_tokens])\n",
    "a =[]\n",
    "b = []\n",
    "for sent in sample_bbc_news_sentences_tokenized_lower:\n",
    "    for token in unique_tokens:\n",
    "        a.append(sent.count(token))\n",
    "    b.append(a)\n",
    "    a = []\n",
    "print(incidence_matrix)\n",
    "#incidence_matrix.shape"
   ]
  },
  {
   "cell_type": "code",
   "execution_count": 12,
   "metadata": {},
   "outputs": [
    {
     "data": {
      "text/plain": [
       "(82, 14)"
      ]
     },
     "execution_count": 12,
     "metadata": {},
     "output_type": "execute_result"
    }
   ],
   "source": [
    "incidence_matrix.shape"
   ]
  },
  {
   "cell_type": "markdown",
   "metadata": {},
   "source": [
    "For a bigger vocab can take too much memory (number of tokens * number of documents), while also being sparse!"
   ]
  },
  {
   "cell_type": "markdown",
   "metadata": {},
   "source": [
    "![Inverted Index](img/inverted-index.png)"
   ]
  },
  {
   "cell_type": "markdown",
   "metadata": {},
   "source": [
    "# Dataset \n",
    "https://archive.ics.uci.edu/ml/datasets/Twenty+Newsgroups "
   ]
  },
  {
   "cell_type": "markdown",
   "metadata": {},
   "source": [
    "# You will now have to construct the Inverted Index - only the dictionary part (term and #docs)"
   ]
  },
  {
   "cell_type": "code",
   "execution_count": 4,
   "metadata": {},
   "outputs": [
    {
     "name": "stderr",
     "output_type": "stream",
     "text": [
      "[nltk_data] Downloading package punkt to\n",
      "[nltk_data]     C:\\Users\\didimitrov\\AppData\\Roaming\\nltk_data...\n",
      "[nltk_data]   Package punkt is already up-to-date!\n"
     ]
    },
    {
     "data": {
      "text/plain": [
       "True"
      ]
     },
     "execution_count": 4,
     "metadata": {},
     "output_type": "execute_result"
    }
   ],
   "source": [
    "from nltk.tokenize import sent_tokenize\n",
    "from collections import defaultdict, Counter\n",
    "from string import punctuation\n",
    "import os\n",
    "import nltk\n",
    "nltk.download('punkt')"
   ]
  },
  {
   "cell_type": "code",
   "execution_count": 1,
   "metadata": {
    "code_folding": []
   },
   "outputs": [],
   "source": [
    "document = \"ASdlkasjlkdja lkasjdlka lkdjas dlka jdslkjsa dla ljalkd lkas lalkjdslkajs ld!\"\n",
    "def preprocess_document(content):\n",
    "    \"\"\"\n",
    "    Returns a list of tokens for a document's content. \n",
    "    Tokens should not contain punctuation and should be lower-cased.\n",
    "    \"\"\"\n",
    "    pass\n",
    "\n",
    "         \n",
    "def prepare_dataset(documents_dir):\n",
    "    \"\"\"\n",
    "    Returns list of documents in the documents_dir, where each document is a list of its tokens. \n",
    "    \n",
    "    \"\"\"\n",
    "    pass"
   ]
  },
  {
   "cell_type": "markdown",
   "metadata": {
    "scrolled": true
   },
   "source": [
    "__Example Output: __ <br>\n",
    "\n",
    "prepare_dataset('data/mini_newsgroups/talk.politics.guns/')\n",
    "\n",
    ">Found documents:  100 <br>\n",
    ">[['path', 'cantaloupe.srv.cs.cmu.edu', 'crabapple.srv.cs.cmu.edu', 'fs7.ece.cmu.edu', 'europa.eng.gtefsd.com', 'howland.reston.ans.net', 'wupost', 'cs.utexas.edu', 'uunet', 'olivea', 'sgigate','sgiblab','adagio.panasonic.com',..."
   ]
  },
  {
   "cell_type": "code",
   "execution_count": 46,
   "metadata": {},
   "outputs": [
    {
     "data": {
      "text/plain": [
       "['us',\n",
       " 'wedding',\n",
       " 'limousine',\n",
       " 'crash',\n",
       " 'kills',\n",
       " '20',\n",
       " 'kanye',\n",
       " 'west',\n",
       " 'deletes',\n",
       " 'social',\n",
       " 'media',\n",
       " 'profiles']"
      ]
     },
     "execution_count": 46,
     "metadata": {},
     "output_type": "execute_result"
    }
   ],
   "source": [
    "preprocess_document(\"US wedding limousine crash kills 20. Kanye West, deletes social media profiles!\")"
   ]
  },
  {
   "cell_type": "code",
   "execution_count": 1,
   "metadata": {},
   "outputs": [],
   "source": [
    "prepare_dataset('./data/mini_newsgroups/sci.electronics')"
   ]
  },
  {
   "cell_type": "code",
   "execution_count": 16,
   "metadata": {},
   "outputs": [],
   "source": [
    "def document_frequency(tokenized_documents):\n",
    "    \"\"\"\n",
    "    Returns a dictionary {token:number of documents containing the token}\n",
    "    \"\"\"\n",
    "    pass"
   ]
  },
  {
   "cell_type": "markdown",
   "metadata": {},
   "source": [
    "__Example Output:__<br><br>\n",
    "selected_category = 'data/mini_newsgroups/sci.crypt/' <br>\n",
    "print(selected_category) <br>\n",
    "tokenized_dataset = prepare_dataset(selected_category) <br>\n",
    "print(\"Sample tokenized document:\") <br>\n",
    "print(tokenized_dataset[0][:10])\n",
    "\n",
    "> data/mini_newsgroups/sci.crypt/<br>\n",
    "> Found documents:  100<br>\n",
    "> Sample tokenized document:<br>\n",
    "> ['newsgroups', 'sci.crypt', 'path', 'cantaloupe.srv.cs.cmu.edu', 'rochester', 'udel', 'bogus.sura.net', 'howland.reston.ans.net', 'torn', 'nott']\n",
    "\n",
    "df = document_frequency(tokenized_dataset) <br>\n",
    "print(\"Most common words:\")<br>\n",
    "print(Counter(df).most_common(10))<br>\n",
    "print(\"Least common words:\")<br>\n",
    "print(Counter(df).most_common()[-10:])<br>\n",
    "\n",
    ">Most common words:<br>\n",
    ">[('apr', 100), ('newsgroups', 100), ('path', 100), ('message-id', 100), ('cantaloupe.srv.cs.cmu.edu', 100), ('from', 100), ('date', 100), ('sci.crypt', 100), ('subject', 100), ('lines', 99)]<br>\n",
    ">Least common words:<br>\n",
    ">[('herndon', 1), ('type', 1), ('stu-iii', 1), ('confident', 1), ('elephants', 1), ('ii', 1), ('combined', 1), ('fuzzy', 1), ('myktotronx', 1), ('amanda@intercon.com', 1)]"
   ]
  },
  {
   "cell_type": "code",
   "execution_count": 19,
   "metadata": {},
   "outputs": [
    {
     "name": "stdout",
     "output_type": "stream",
     "text": [
      "data/mini_newsgroups/sci.crypt/\n",
      "Found documents:  100\n",
      "Sample tokenized document:\n",
      "['path', 'cantaloupe.srv.cs.cmu.edu', 'crabapple.srv.cs.cmu.edu', 'fs7.ece.cmu.edu', 'europa.eng.gtefsd.com', 'news.ans.net', 'cmcl', '2', 'arizona', 'ho']\n",
      "defaultdict(<function document_frequency.<locals>.<lambda> at 0x000001D82DCC11F0>, {'nsa': 18, 'lines': 99, 'on': 58, 'explained': 2, 'pkp': 3, 'that': 79, 'hilarie': 1, 're': 81, '<3': 2, 'the': 97, '6': 4, 'tucson': 1, '20': 17, 'butcher': 1, 'news.ans.net': 1, 'your': 41, 'in': 84, 'ho@cs.arizona.edu': 1, 'greed': 2, 'subject': 100, 'attribute': 1, 'licensing': 1, 'fs7.ece.cmu.edu': 23, 'involvement': 1, '2': 20, 'message-id': 100, 'conspiracy': 2, 'cantaloupe.srv.cs.cmu.edu': 100, 'to': 92, 'public': 29, 'implementations': 1, 'date': 100, 'references': 80, 'u': 15, 'arizona': 1, 'knife': 1, 'what': 44, '93': 32, 'with': 58, 'test': 7, 'can': 55, 'path': 100, 'from': 100, 'key': 40, 'apr': 100, 'crabapple.srv.cs.cmu.edu': 27, '<930403152101.890833@dockmaster.ncsc.mil>': 1, 'dept': 5, 'organization': 94, 'cs': 3, 'news@cs.arizona.edu': 1, 'be': 70, 'creation': 2, '00:12': 1, 'i': 73, 'europa.eng.gtefsd.com': 23, 'orman': 1, 'of': 92, 'fails': 4, \"occam's\": 1, 'gmt': 84, 'by': 42, 'speculations': 1, 'it': 77, 'cmcl': 1, 'ho': 1, 'never': 6, 'forthright': 1, '6179@optima.cs.arizona.edu': 1, 'sender': 52, 'find': 14, 'sci.crypt': 100, 'newsgroups': 100, 'regard': 5, '128': 1, 'ran': 1, 'encrypt': 7, 'greater': 1, 'modern': 3, 'value': 3, 'slow': 2, 'configure': 1, '15': 9, 'sol.ctr.columbia.edu': 3, 'skipped': 1, 'available': 16, \"workstation's\": 1, 'random': 5, 'draft-ietf-security-randomness-00.txt': 1, 'check': 5, 'brothers': 2, 'some': 38, '4p5': 1, 'university': 23, 'which': 35, 'article': 47, 'das-news.harvard.edu': 28, 'hundreds': 1, 'ji@cs.columbia.edu': 1, 'read': 11, 'draft': 1, 'megabytes': 1, 'good': 27, 'howland.reston.ans.net': 54, 'workstation': 2, 'secret': 22, 'then': 30, 'salomon': 1, 'and': 83, 'application': 3, '...': 39, 'uwm.edu': 11, 'bound': 4, 'department': 6, 'need': 16, 'clock': 4, 'off': 9, 'reasonably': 1, 'expected': 1, 'you': 62, 'local': 7, 'dev': 1, 'best': 9, 'writes': 64, 'stick': 2, 'function': 5, 'news': 29, 'an': 43, 'zaphod.mps.ohio-state.edu': 42, '1': 14, 'readable': 1, 'ny': 4, 'columbia': 1, 'because': 16, 'cryptographically': 3, 'for': 72, 'a': 81, 'client': 2, 'intruder': 2, 'drafts': 1, 'ogicse': 3, '0': 2, 'repository': 2, 'network': 8, 'decided': 2, 'connection': 4, 'guess': 10, 'establish': 1, 'x11r5': 1, 'distributed': 2, 'work': 23, 'md5': 1, 'tens': 2, 'is': 78, 'g': 8, 'uniformly': 1, '55': 6, 'at': 53, 'science': 7, 'article-i': 3, \"can't\": 14, 'number': 11, 'c': 16, 'x': 3, 'c5jp0k': 1, 'more-or-less': 1, 'real-time': 2, 'do': 41, 'd': 10, 'came': 1, 'ji': 1, 'over': 14, 'ioannidis': 1, 'randomness': 1, 'inc': 12, 'cryptographic': 7, 'etc': 11, 'when': 29, 'file': 4, 'grabbed': 1, 'only': 40, 'nicol': 1, '<c5ja6s.a59@cs.psu.edu>': 1, 'fair': 3, 'server': 4, 'this': 72, 'security': 26, 'there': 32, 'was': 38, 'friendly': 1, '10k': 1, '<897@pivot.sbi.com>': 1, 'bits': 4, 'news@cs.columbia.edu': 1, 'applications': 1, 'running': 1, 'buffers': 1, 'are': 65, 'discussion': 3, 'internet': 6, 'want': 15, 'output': 5, 'entropy': 2, 'todd': 1, 'source': 9, 'etherfind': 1, 'hash': 1, 'o': 4, 'unguessable': 1, 'enough': 13, 'or': 56, 'news.cs.columbia.edu': 1, 'back': 12, 'but': 54, 'these': 26, 'unix': 5, 'large': 3, 'system': 34, 'fed': 1, 'grabbing': 1, '21:57': 1, 'my': 35, 'tell': 11, 'memory': 1, 'pass': 3, 'as': 51, 'quite': 11, 'e': 17, 'so@eiffel.cs.psu.edu': 1, 'so': 44, 'out': 34, 'timers': 1, 'example': 10, 'john': 13, 'settled': 1, 'mem': 1, 'daily': 3, 'bet@sbi.com': 1, 'amount': 4, 'computer': 24, 'them': 25, 'basically': 2, 'traffic': 10, 'they': 51, 'generators': 1, 'bennett': 2, 'compress': 1, 'mit-magic-cookie': 1, 'bunch': 1, 'up': 29, '35': 2, 'data': 21, '<c5jp0k.4p5@cs.columbia.edu>': 1, '(408 241-9760': 2, 'conflict': 2, 'information': 21, 'gatech': 16, 'well': 21, 'netcom.com': 9, '16:44': 1, 'tcmay': 1, 'anarchy': 1, '756839': 1, 'house': 14, 'way': 18, 'swrinde': 5, 'obvious': 7, 'zero': 3, 'encryption': 41, 'x-newsreader': 9, 'government-approved': 1, 'pl5': 2, 'money': 9, 'may': 25, 'on-line': 1, '16': 14, 'escrow': 25, 'distribution': 31, 'doubt': 5, 'w': 4, 't': 9, 'schemes': 3, '1.1': 7, 'higher': 1, 'black': 4, 'last': 8, 'professor': 1, 'elroy.jpl.nasa.gov': 4, 'markets': 2, 'all': 44, 's': 17, 'timothy': 4, 'ones': 5, 'fall': 3, 'tim': 3, 'clipper': 47, 'trial': 2, 'raised': 2, 'guest': 2, '<c5l17v.gh5@dove.nist.gov>': 4, 'communication': 5, 'pgp': 13, '408-688-5409': 1, 'already': 9, 'collapse': 1, 'knowledge': 2, 'tin': 6, 'processor': 2, '28': 5, 'end-to-end': 1, 'making': 6, 'name': 8, 'text': 8, 'white': 12, 'fri': 8, '1993': 75, 'netcom': 2, 'governments': 2, 'doing': 9, 'q': 10, 'reputations': 1, 'seems': 13, 'networks': 4, 'mailsafe': 1, 'pseudonyms': 2, 'denning': 10, 'paladin.american.edu': 2, 'used': 26, 'now': 23, \"they're\": 7, 'chip': 46, 'tcmay@netcom.com': 4, 'present': 7, \"isn't\": 10, 'aptos': 1, 'power': 3, 'announcement': 9, '21': 21, 'more': 37, 'crypto': 19, 'digital': 4, 'balloon': 1, 'services': 4, 'anonymous': 3, 'netcomsv': 1, 'bypass': 1, 'decwrl': 3, '<tcmayc5l564.f8g@netcom.com>': 1, 'na': 17, 'ca': 9, 'intergraph': 1, 'bb3.andrew.cmu.edu': 13, 'news@informatik.uni-hamburg.de': 3, 'algorithms': 3, \"won't\": 9, 'strong': 10, 'main': 4, 'than': 26, 'role': 3, 'law': 16, 'manufacturers': 2, 'done': 6, 'california': 3, 'details': 11, 'unrecognized': 3, 'totalitaristic': 1, 'interests': 2, 'sector': 5, 'limited': 3, 'regards': 3, 'growth': 2, 'sword': 3, 'review': 2, 'readily': 3, 'evaluate': 2, 'manufacturer': 2, 'fundamental': 4, 'consulted': 2, 'been': 37, 'experts': 7, 'monopolism': 1, 'quickly': 5, 'forget': 3, 'both': 17, 'later': 7, 'looks': 3, 'math.fu-berlin.de': 3, 'keys': 30, 'council': 3, 'open': 8, 'solution': 5, 'pitted': 2, 'entitled': 2, 'case-by-case': 2, 'yet': 12, 'acquire': 2, 'bontchev@fbihh.informatik.uni-hamburg.de': 5, 'fight': 4, 'regarding': 4, 'offered': 2, 'trust': 13, 'even': 32, 'fachbereich': 3, 'messages': 11, '+49-40-': 3, 'addition': 3, 'step': 4, 'ok': 6, 'ifmsun8.ifm.uni-hamburg.de': 3, 'personal': 8, 'dual-edge': 3, 'industry': 3, 'listen': 4, 'trusted': 3, 'says': 8, 'des': 16, '45': 7, 'snooper': 1, 'bear': 1, 'approaches': 2, 'comprehensive': 3, 'believed': 1, 'has': 48, 'members': 5, 'innovative': 2, 'plot': 2, 'handle': 2, 'phone': 12, 'virus': 4, 'other': 34, 'one': 41, 'news.sei.cmu.edu': 32, \"we'll\": 3, 'programming': 5, 'after': 14, 'how': 35, 'every': 7, 'nope': 1, 'unable': 2, 'bases': 3, 'officials': 5, 'increasingly': 5, 'remedies': 3, 'develop': 5, 'munitions': 1, 'needs': 7, 'introduction': 2, 'question': 9, 'arms': 1, 'intercept': 2, 'related': 4, 'prevent': 5, 'parts': 6, 'decides': 1, 'authority': 2, 'decrypt': 6, 'act': 7, 'economic': 4, 'consistent': 3, 'wiretap': 19, 'expect': 4, 'leaders': 2, 'optimist': 1, 'sell': 6, '30': 7, 'produces': 2, 'effectively': 2, 'conversations': 5, '17:36': 1, 'encoded': 2, 'informatik': 3, 'people': 31, 'determine': 4, 'real': 8, 'outright': 4, 'e-mail': 6, 'companies': 7, 'users': 8, 'rm': 3, 'technological': 2, 'appropriate': 2, 'tel': 5, 'nothing': 10, 'previous': 5, 'new': 18, 'vulnerabilities': 3, 'respected': 3, 'through': 11, 'mykotronx': 8, 'importance': 2, 'voice': 9, 'agn': 3, 'have': 55, 'center': 8, 'telecommunications': 4, 'we': 33, 'hardware': 6, 'since': 20, 'something': 13, 'huh': 2, 'academia': 1, 'use': 30, 'could': 31, 'threatens': 2, 'remain': 3, 'citizens': 6, 'authorization': 3, 'legitimate': 2, 'convenient': 2, 'countries': 4, 'mr': 8, 'him': 7, 'capabilities': 2, 'technology': 13, 'vendors': 2, 'systems': 13, 'great': 11, 'briefed': 2, 'would': 46, 'its': 18, 'misuse': 1, 'potential': 4, 'communications': 10, 'shield': 3, 'lawfully': 2, 'manufactured': 3, 'assure': 2, 'trapdoors': 2, 'first': 22, 'criminals': 5, 'time': 23, 'algorithm': 20, 'using': 24, 'issues': 8, 'businesses': 2, 'privacy': 12, 'help': 6, 'hide': 3, 'germany': 5, 'programs': 3, 'purposes': 8, 'much': 16, '54': 3, \"encryption's\": 3, 'expensive': 6, 'working': 8, 'consider': 3, 'us': 19, 'built-in': 1, 'americans': 3, 'constitutions': 1, 'preserves': 3, 'drug': 11, 'cannot': 6, 'ways': 7, 'export': 3, 'two': 22, 'conduct': 2, 'bullshit': 4, 'fbihh': 3, 'expand': 3, 'future': 7, 'telephone': 5, 'scrambles': 2, 'during': 5, 'understand': 5, 'policies': 3, 'voluntary': 3, 'run': 11, 'comment': 4, 'hamburg': 3, 'private': 15, 'carry': 3, 'program': 8, 'enforcement': 10, 'key-escrow': 8, 'considered': 7, 'our': 21, 'mechanism': 2, 'release': 7, '2000': 3, 'meeting': 2, 'accommodate': 2, 'wanted': 6, 'between': 7, 'important': 8, 'helps': 3, 'guarantees': 2, 'stupid': 6, 'provides': 5, 'resolve': 2, 'crime': 8, 'against': 14, 'independent': 5, 'rights': 8, 'ordinary': 2, 'content': 3, 'decode': 4, 'order': 11, 'administration': 7, 'means': 9, 'scheme': 12, 'nice': 3, 'if': 60, 'assess': 2, 'not': 65, 'terrorists': 3, 'examination': 2, 'problem': 14, 'false': 2, \"couldn't\": 2, 'government': 31, '54715-224': 3, 'play': 5, 'matter': 10, 'leave': 2, 'competing': 2, 'employ': 4, 'computing': 3, 'established': 3, 'outlaw': 1, 'fax': 9, 'ability': 8, 'invite': 2, 'effective': 2, 'product': 4, 'sternlight': 14, 'casual': 1, 'president': 9, 'correct': 4, 'decide': 3, 'cis.ohio-state.edu': 23, 'policy': 6, 'torrance': 2, 'ensure': 9, 'congress': 5, 'vesselin': 4, 'activities': 2, 'business': 7, 'also': 26, 'facility': 3, 'products': 3, 'p': 4, 'while': 19, 'powerful': 6, 'abilities': 1, 'secure': 20, 'each': 13, 'hands': 2, '3': 6, 'cryptography': 18, 'electronic': 6, 'illegal': 11, 'licensed': 2, 'bring': 2, 'decisions': 2, 'point': 13, 'who': 35, 'state': 9, 'prove': 1, 'decision': 4, 'many': 18, 'weak': 6, 'sense': 9, 'however': 16, 'right': 16, 'did': 9, 'devices': 7, 'except': 4, 'committed': 5, 'kept': 6, 'short': 2, 'less': 6, 'improve': 3, 'banks': 3, 'proposal': 7, 'separately': 3, 'legal': 9, 'vitality': 2, 'developed': 5, 'american': 7, 'agencies': 10, 'vladimirov': 3, 'sure': 15, ');': 2, 'entirely': 5, 'reply-to': 13, '268': 1, 'unauthorized': 6, 'findings': 2, 'latter': 2, 'their': 26, 'panel': 3, 'provide': 7, 'confidential': 3, 'claim': 4, 'mafia': 2, 'unbreakable': 3, 'files': 6, 'today': 6, 'willing': 5, 'into': 22, 'ira.uka.de': 2, 'must': 13, 'others': 5, \"doesn't\": 14, 'too': 15, 'bontchev': 4, 'does': 31, 'individuals': 6, 'manufacture': 2, 'examinations': 1, 'including': 5, 'breaking': 2, 'see': 17, 'on-going': 2, 'dealers': 7, 'secrets': 3, 'phones': 7, 'device': 11, 'clipper@csrc.ncsl.nist.gov': 2, 'indicates': 2, \"i'm\": 20, 'infrastructure': 3, 'attorney': 2, 'protecting': 5, 'high': 5, 'different': 6, 'abiding': 1, 'sometimes': 3, 'steal': 1, 'whose': 7, 'exportable': 2, 'were': 16, 'incredibly': 2, 'proposed': 2, 'restrict': 4, 'announced': 2, 'initiative': 7, 'protect': 8, 'federal': 7, 'publicly': 2, 'public-interest': 2, '<bontchev.734981805@fbihh>': 4, 'challenges': 2, 'will': 44, 'those': 18, 'general': 8, 'break': 7, 'approach': 6, 'why': 13, 'whole': 13, 'dialogue': 2, 'discussions': 2, 'outside': 5, 'commercial': 6, 'justice': 3, 'resist': 2, 'feds': 8, \"they'll\": 8, 'authorities': 2, 'prohibit': 5, 'national': 12, 'tools': 5, 'control': 11, 'groups': 2, 'mail': 10, 'claims': 3, 'obscurity': 1, 'design': 7, 'together': 3, 'access': 17, 'long': 10, 'report': 5, 'addressing': 2, 'community': 4, 'designed': 5, 'safety': 2, 'oversee': 2, '2.2': 5, 'controls': 4, 'succeed': 2, 'david': 20, 'rather': 12, 'screening': 1, 'candidates': 2, 'restricted': 1, 'built': 6, 'deposited': 2, 'proprietary': 4, 'required': 3, 'vogt-koelln-strasse': 3, 'bla-bla': 1, 'no': 36, 'entities': 3, 'end': 8, 'same': 20, 'broad': 3, 'terrorism': 2, 'like': 25, 'rzsun2.informatik.uni-hamburg.de': 3, 'intensify': 2, '107': 3, \"citizen's\": 1, 'microcircuits': 2, 'electronically': 3, 'propose': 2, 'law-abiding': 3, 'bribe': 1, 'indeed': 3, 'besides': 4, 'current': 6, 'fbi': 5, 'buried': 1, 'nor': 5, 'requirements': 2, 'request': 10, \"it's\": 21, 'pop': 1, 'little': 10, 'just': 39, '54715-226': 3, 'saying': 8, 'providing': 3, 'tension': 2, 'transmitted': 5, 'say': 19, 'formulation': 1, 'classified': 9, 'smell': 1, 'compete': 3, \"who's\": 6, '<betel.734997645@camelot>': 3, '<1qn74ninni38@golden.kaleida.com>': 3, '<1qmugcinnpu9@gap.caltech.edu>': 2, 'ux1.cso.uiuc.edu': 2, 'un-authorized': 2, 'tap': 9, 'accuse': 2, 'bradley': 1, 'get': 30, 'blank': 3, 'jay': 2, 'betel@camelot.bradley.edu': 2, 'warrant': 6, 'method': 7, 'gnomes': 1, 'betel': 1, 'being': 19, '22:00': 1, 'bradley.bradley.edu': 1, 'someone': 17, 'nntp-posting-host': 37, 'fenton': 2, 'possible': 8, 'serial': 6, 'crawford': 2, 'without': 21, 'prefix': 2, 'take': 17, 'camelot': 1, 'apparently': 2, 'assume': 9, 'about': 45, 'generous': 1, 'ciphertext': 4, 'kloo': 1, 'me': 28, 'robert': 4, 'able': 14, 'magnus.acs.ohio-state.edu': 5, \"don't\": 37, 'start': 11, 'usenet.ins.cwru.edu': 4, '<fenton@kaleida.com>': 2, 'camelot.bradley.edu': 1, 'thinking': 5, 'news@bradley.bradley.edu': 1, 'detect': 4, 'technique': 4, 'transmits': 4, 'draw': 2, 'clear': 8, 'cipher': 6, 'haven.umd.edu': 3, 'given': 8, '18:09': 1, 'not-for-mail': 5, 'key-search': 1, 'fixable': 1, 'deliberate': 1, 'uunet': 27, 'giving': 2, 'citicorp': 1, 'gladstone': 1, 'course': 15, 'tied': 1, 'escrowed': 6, 'easily': 10, 'availability': 1, 'further': 2, 'person': 14, 'chunks': 1, 'split': 4, 'behind': 6, 'principles': 1, 'philip@charon.cto.citicorp.com': 1, '56': 4, 'reasonable': 1, 'weakness': 4, '0400': 8, 'suggesting': 1, 'bit': 11, 'charon.cto.citicorp.com': 1, 'version': 9, 'machine': 10, 'stuff': 7, '80': 6, 'generate': 3, 'think': 27, '40': 6, 'philip': 2, 'make': 27, '<1qnark$4g8@charon.cto.citicorp.com>': 1, 'description': 4, 'pl6': 2, 'allow': 3, 'darwin.sura.net': 7, 'x-ored': 1, 'sdd.hp.com': 9, 'simply': 8, '<matt-160493203627@wardibm2.med.yale.edu>': 1, 'concentrates': 1, 'vending': 1, 'matt@wardsgi.med.yale.edu': 1, 'net': 4, 'plants': 1, '<930413183007.633628@dockmaster.ncsc.mil>': 1, 'crazy': 1, 'form': 6, 'reverse-engineered': 1, \"you're\": 8, 'user': 6, '<bontchev.734787730@fbihh>': 1, 'licence': 1, 'took': 7, 'rc4': 1, 'wrote': 5, 'pepsi': 1, 'ingredients': 1, 'know': 34, 'gonna': 2, 'put': 7, 'exotic': 1, 'think.com': 1, 'chemists': 1, 'recipe': 1, 'formula': 1, 'single': 6, 'under': 15, 'prefer': 3, 'shipped': 2, 'remixed': 1, 'partial': 1, 'ahaley@eoe.co.uk': 1, 'forth': 1, 'simple': 6, 'keep': 12, '00:39': 1, 'complicated': 3, '17': 19, 'news.yale.edu': 1, 'sat': 6, 'pretends': 1, 'followup-to': 6, 'always': 7, 'minutes': 2, 'true': 12, 'producers': 1, 'genetics': 1, '<1657@eouk5.eoe.co.uk>': 1, 'concentrate': 2, 'news@news.yale.edu': 1, 'elaborate': 1, 'pretend': 1, 'coca-cola': 1, \"pepsico's\": 1, 'usenet': 14, 'back-and': 1, 'rc2': 1, 'patents': 1, 'healy': 1, 'mix': 1, 'instance': 4, 'six': 3, 'cities': 1, 'administrator': 5, 'actually': 5, 'around': 13, 'lab': 3, 'still': 13, 'wardibm2.med.yale.edu': 1, 'haley': 1, 'pepsico': 1, 'dozens': 1, 'made': 6, 'world': 7, 'water': 1, 'understood': 1, 'anyhow': 1, 'matt': 1, 'andrew': 3, 'several': 8, 'plant': 1, 'yale.edu': 3, 'trick': 1, 'measures': 2, 'yale': 3, 'range': 3, 'crack': 6, 'crypt-comments@math.ncsu.edu': 1, 'disguise': 1, 'involves': 1, 'fare': 1, 'brute': 2, 'certain': 5, 'easy': 6, 'involved': 8, 'beginner': 1, 'go': 10, 'missing': 3, 'cryptanalyst': 1, 'keyspace': 2, 'integration': 1, 'convert': 2, 'analysis': 3, '84': 2, 'motivation': 1, 'disguising': 1, 'taking': 8, 'found': 8, 'pri': 1, 'detailed': 2, 'necessarily': 3, 'computation': 1, 'send': 5, 'crypt': 2, 'recipients': 1, '67': 2, 'pertaining': 1, 'years': 10, 'stare': 2, 'pad-thai.aktis.com': 1, 'shoot': 1, 'rest': 3, '90': 4, 'gai': 1, 'concise': 1, 'cs.utexas.edu': 14, 'looked': 1, 'methods': 6, 'articles': 1, 'authored': 1, 'ask': 6, 'any': 43, 'probably': 12, 'researchers': 1, 'series': 3, 'mentioned': 2, 'invest': 1, 'introductory': 1, 'kah': 1, 'noc.near.net': 34, 'often': 4, 'labelled': 1, 'archive-name': 1, 'unlikely': 2, 'serve': 3, 'price': 4, 'outerbridge': 1, 'experience': 1, 'theorists': 1, 'classical': 1, 'amateurs': 1, 'insufficient': 1, '04:00': 1, 'cryptanalysts': 1, 'especially': 6, '22': 24, 'cryptography-faq': 1, 'manageably': 1, 'crib': 1, 'x-last-updated': 1, 'match': 1, 'abstract': 1, 'den': 1, 'give': 12, 'chance': 2, 'corresponding': 2, \"isologs''---the\": 1, '03': 1, 'one-time': 1, 'relevance': 1, 'definitions': 1, 'uniquely': 1, 'logarithm': 1, 'aware': 2, 'finding': 2, 'meyer': 1, 'traditional': 1, 'compute': 2, 'operation': 4, 'xref': 50, 'attempted': 2, 'solve': 1, 'decrypting': 3, 'cae': 1, 'enemies': 1, 'plaintext': 5, 'disguised': 1, 'anybody': 5, 'performed': 2, \"cribs''---stretches\": 1, '19': 15, 'common': 5, 'thus': 4, 'news.answers/cryptography-faq/part': 1, 'rueppel': 1, 'scrutiny': 4, 'batcomputer': 4, 'decrease': 1, 'rue': 1, 'gives': 1, 'directly': 5, \"that's\": 8, 'codebreakers': 1, 'caen': 7, 'suspect': 6, 'place': 13, 'deduce': 1, 'mid': 1, 'itself': 8, '1993/04': 1, 'practical': 4, 'space': 2, 'advances': 1, 'strength': 2, 'pfleeger': 1, 'mey': 1, '00:00': 1, 'alphabet': 1, 'small': 4, 'usually': 1, 'encrypting': 8, 'message': 12, 'poster': 2, 'cryptosystems': 2, 'faster': 2, 'threaten': 1, 'sections': 1, 'kob': 1, 'apply': 3, 'well-designed': 1, 'sent': 6, 'own': 16, 'database': 10, 'massively': 1, 'third': 3, 'refer': 1, 'involve': 2, 'kon': 1, 'kahn': 1, '81': 1, 'longer': 5, 'replaced': 1, 'devise': 1, 'luck': 2, 'described': 4, 'called': 9, '7673': 1, 'begin': 2, 'days': 5, '82': 1, 'parallel': 2, 'cryptosystems---seeing': 1, 'messengers': 1, 'theoretical': 2, 'brute-force': 1, 'ftp': 4, '03/10': 1, 'somehow': 1, 'rule': 3, 'matches---or': 1, 'rtfm.mit.edu': 1, 'learn': 2, '129': 1, 'pfl': 1, 'intend': 2, 'produce': 4, 'consist': 1, 'learned': 2, 'he': 18, 'before': 9, 'integers': 1, 'books': 3, 'decipher': 3, 'study': 2, 'successful': 1, 'pattern': 2, 'gained': 2, 'knew': 6, 'y': 1, 'thorough': 1, 'parties': 1, 'employed': 1, 'better': 7, 'tests': 3, 'should': 16, 'very': 20, 'sin': 1, 'comments': 3, 'consequently': 1, \"konheim's\": 1, 'change': 7, 'satisfied': 1, 'misused': 1, 'reasoning': 2, 'attempt': 2, 'written': 2, 'models': 1, 'julius': 1, 'proficiency': 1, 'well-known': 1, 'gaines': 1, 'enemy': 1, 'supposed': 4, '15248': 1, 'crap': 2, 'relatively': 2, '<cryptography-faq/part01_735019207@gza.com>': 1, 'cryptanalyses': 1, 'faq': 2, 'allies': 1, 'interlopers': 1, 'cabal': 1, 'selection': 1, 'needed': 3, 'matyas': 1, 'patience': 1, 'probable': 2, 'valuable': 2, 'solutions': 3, '44': 4, 'cornell': 3, 'might': 16, '07': 2, 'art': 1, 'encryptor': 1, 'expert': 2, 'whichever': 1, 'standard': 8, 'collection': 1, 'enciphered': 1, 'pad': 1, 'facilities': 2, '1993/4': 1, 'search': 2, 'labels': 1, 'practice': 3, 'resides': 1, 'measure': 1, 'feeds': 2, 'faqserv@gza.com': 1, 'figures': 1, 'posted': 8, 'trying': 11, 'reference': 2, 'unicity': 1, 'n': 5, 'sophisticated': 6, 'analyses': 1, 'try': 10, 'appeared': 1, 'malfunction': 1, 'expires': 2, 'his': 15, 'situation': 2, 'force': 3, 'determination': 1, 'b': 5, '86': 2, 'factoring': 2, '66': 3, 'nutshell': 1, 'difficult': 4, 'wwii': 1, 'theoretically': 1, '60': 1, 'acquaintances': 1, '89': 1, 'survey': 1, 'development': 5, 'news-answers-request@mit.edu': 1, 'mostly': 1, 'historical': 1, 'natural': 1, 'cryptanalytic': 1, 'shift': 2, 'list': 5, 'cryptosystem': 3, 'garron': 1, 'known': 7, 'above': 10, 'f': 4, 'pub': 2, 'mistake': 3, 'last-modified': 1, 'koblitz': 1, 'machines': 1, 'statistical': 3, 'subjected': 1, 'interesting': 5, 'such': 24, '91': 1, '70': 2, 'similar': 8, 'creating': 1, 'attention': 2, 'algebra': 1, 'computational': 1, 'contents': 2, 'loses': 1, 'cost': 5, 'passes': 1, 'phase': 1, 'cryptology': 2, 'begins': 1, 'certainly': 7, 'guaranteed': 2, 'management': 4, 'attacks': 3, '10': 4, 'history': 3, 'properties': 2, 'caesar': 1, 'eavesdroppers': 1, 'rochester': 20, 'here': 22, 'technical': 14, 'military': 4, 'concerned': 4, 'xx': 1, 'obtain': 3, 'dramatic': 1, 'via': 5, 'failing': 1, 'basic': 4, 'frie': 1, 'cryptanalytics': 1, 'cryptanalysis': 3, 'most': 17, 'discrete': 1, 'texts': 1, 'once': 18, 'sinkov': 1, 'book': 1, 'proof': 4, 'story': 2, '50': 7, 'minimum': 2, 'problems': 5, 'scenarios': 1, 'intercepted': 1, 'mathematical': 2, 'recommended': 1, 'exploit': 1, 'analytical': 1, 'part': 7, 'secrecy': 3, 'konheim': 1, 'analysis-proof': 1, 'detail': 3, '187': 1, 'operations': 2, 'chosen-plaintext': 1, 'summary': 10, 'news.answers': 1, 'sci.answers': 1, 'gar': 1, 'drew': 1, 'ten': 2, 'theory': 4, 'public-key': 5, 'approved': 3, 'identify': 3, \"didn't\": 8, 'opponents': 1, 'show': 3, 'distance': 1, 'competent': 1, 'davies': 2, 'values': 3, 'knowing': 5, 'ciphers': 2, 'decryption': 6, 'per': 5, 'procedure': 1, 'original': 3, 'textbooks': 1, '<cryptography-faq/part03_735019207@gza.com>': 1, 'where': 12, 'terms': 1, 'possibilities': 1, 'encyclopedic': 1, 'notes': 1, 'include': 2, 'formal': 2, 'combination': 2, 'joe': 2, 'appears': 3, 'impractical': 1, 'integer': 1, 'until': 6, 'excluding': 1, 'shaun': 1, 'news@csus.edu': 1, 'cite': 3, 'anyone': 25, 'usc': 8, 'documented': 3, '07:18': 1, 'passing': 1, 'csus.edu': 9, 'iran-contra': 1, '<1993apr17.071859.9555@csus.edu>': 1, 'francisco': 1, 'thought': 7, 'sphughes@sfsuvax1.sfsu.edu': 1, '59': 6, 'sphughes': 1, 'finger': 3, 'san': 7, 'hughes': 3, 'sfsuvax1.sfsu.edu': 1, 'gang': 2, 'jhesse@netcom.com': 2, 'plenty': 1, 'secondary': 1, '<jhessec5lumc.2ex@netcom.com>': 2, 'please': 12, 'in--except': 1, '<16695@rand.org>': 3, 'anything': 13, 'going': 14, 'surprised': 1, '<16696@rand.org>': 3, 'oh': 3, 'sources': 3, 'primary': 2, 'neglected': 1, 'news@qualcomm.com': 3, 'wonderful': 1, 'qualcom.qualcomm.com': 3, 'ron': 5, 'rdippold@qualcomm.com': 5, 'waif': 1, 'dippold': 5, 'turned': 1, 'nobody': 4, '79': 1, 'pick': 6, 'asbestos': 5, 'updating': 1, 'erase': 1, 'nail': 1, 'eyes': 2, '11': 6, '<strnlghtc5lgfi.jqa@netcom.com>': 4, 'hesse': 2, 'company': 7, 'qualcom.rdippold': 1, '<rdippold.735042679@qualcom>': 2, 'nourish': 1, 'diego': 4, 'rdippold': 3, 'network.ucsd.edu': 6, 'keywords': 10, '7350426': 1, 'rdippold@qualcom.qualcomm.com': 3, 'originator': 4, 'qualcomm': 3, 'qualcom': 3, '10:31': 1, 'police': 7, '16899': 1, '<1993apr17.031520.13902@clarinet.com>': 1, '<1993apr16.224513.10751@fsl.noaa.gov>': 1, 'cellular': 3, 'thrust': 1, '<1993apr16.195927.3952@natasha.portal.com>': 1, 'ames': 4, 'nic.umass.edu': 2, 'charnel': 1, 'murray@src.dec.com': 1, 'src.dec.com': 1, 'research': 5, 'brad': 3, '<1993apr17.173450.5163@src.dec.com>': 1, 'rat': 1, 'come': 9, 'brad@clarinet.com': 3, 'hal': 2, '17:34': 1, 'templeton': 3, '8': 4, 'olivea': 1, 'telco': 2, 'radio': 4, '15279': 1, 'murray': 1, 'actual': 3, 'link': 6, 'hence': 4, 'dec': 1, 'news@src.dec.com': 1, '<1993apr16.051311.10536@umr.edu>': 1, 'comp.org.eff.talk': 26, 'gthomas@fraser.sfu.ca': 1, 'guy': 3, 'yes': 7, '<gthomas.735070935@sfu.ca>': 1, 'inet': 7, '15283': 1, 'canada': 1, 'news@sfu.ca': 1, 'reading': 8, 'manufacturing': 2, 'newsserver.sfu.ca': 1, 'asked': 4, 'told': 8, 'gthomas': 1, 'gthomas@native-ed.bc.ca': 1, 'rsn': 1, 'consent': 2, 'reply': 2, 'repacholi': 3, 'video': 6, '<1993apr16.055100.1@cc.curtin.edu.au>': 1, 'bothered': 1, 'month': 1, '18:22': 1, 'cs.ubc.ca': 1, 'burnaby': 1, 'paul': 7, 'destroyer': 1, '16903': 1, 'simon': 1, 'fraser': 1, '<1993apr14.120229.15878@mnemosyne.cs.du.edu>': 1, 'queries': 1, 'thomas': 1, 'sfu.ca': 1, '<1qhc2p$8d8@transfer.stratus.com>': 1, 'zrepachol@cc.curtin.edu.au': 3, 'film': 1, '13': 5, '<1993apr17.223831.1@cc.curtin.edu.au>': 1, 'board': 3, 'ao': 1, 'smythw': 1, 'inherent': 2, '14': 3, 'contention': 2, 'either': 11, 'instead': 9, 'thats': 4, 'releasing': 1, '<5wv5__m@rpi.edu>': 2, 'stranglehold': 1, 'rensselaer': 1, 'autiorization': 1, 'avalibe': 1, 'far': 11, 'acceptance': 5, 'william': 5, 'sort': 4, 'seem': 7, '19:53': 1, 'dance': 1, 'vccnw03.its.rpi.edu': 1, 'ban': 3, 'supeonaed': 1, 'emory': 3, 'exciting': 1, 'troy': 1, 'forced': 4, 'court': 11, 'market': 4, 'proper': 6, 'former': 4, 'call': 3, 'constructing': 2, 'notice': 5, 'tapping': 2, 'hard': 5, 'rsadsi': 1, 'polytechnic': 1, 'otherwise': 6, 'takes': 4, 'stating': 1, 'impressions': 2, 'suggests': 2, 'requires': 3, 'smythw@vccnw03.its.rpi.edu': 1, 'smythe': 1, 'eithe': 1, 'line': 8, 'registered': 2, 'else': 13, '47': 1, 'though': 8, 'implimentations': 1, 'rpi': 1, 'widely': 3, 'exchange': 5, 'unworkable': 1, 'base': 1, 'released': 2, 'keeping': 5, 'session': 7, 'gain': 4, 'threat': 3, 'exceptionally': 1, \"rsa's\": 1, 'carefully': 4, 'dont': 2, 'accept': 1, 'rsa': 6, 'talk': 3, 'institute': 8, 'implicit': 1, 'bill': 8, 'algorythm': 3, 'posibility': 1, 'obtaining': 1, 'oppose': 2, 'registration': 6, 'smythw@rpi.edu': 1, 'symetric': 1, 'non': 3, 'co-opt': 2, 'avalible': 2, 'subsidize': 1, 'plan': 5, 'likely': 8, 'prints': 1, 'concept': 1, 'corp': 2, 'sunnyvale': 1, 'slip': 1, 'reams': 1, 'boxes': 1, '0366': 1, 'paid': 1, 'news-feed-1.peachnet.edu': 6, '408/296-': 1, 'half': 7, 'filed': 1, 'audited': 1, 'produced': 1, 'paper': 3, 'burnt': 1, 'next': 5, 'vlsi': 3, 'unreadable': 1, 'maker': 2, '20:48': 2, '1997': 1, 'implementation': 6, 'mean': 7, 'vault': 2, 'locked': 1, '24': 5, 'thing': 13, '<1993apr17.204850.26711@clarinet.com>': 1, 'almost': 9, 'continues': 1, 'particular': 6, 'follows': 4, 'patent': 1, 'clips': 1, 'houses': 4, 'non-secret': 1, 'clarinet': 1, 'chips': 8, 'presumes': 1, 'goes': 2, 'looking': 8, 'impossible': 2, 'perhaps': 9, 'fuse': 1, 'alt.security': 15, 'justified': 2, 'unless': 12, 'big': 12, 'escrows': 1, 'busted': 1, 'happening': 2, 'df610670f2467b99': 1, 'startling': 1, 'characterized': 1, 'unsecure': 1, 'mine': 3, 'mining': 1, 'amolitor@nmsu.edu': 2, 'nuances': 1, 'posed': 1, 'moves': 1, 'uni@acs.bu.edu': 2, 'press': 2, 'madam': 1, 'drop': 4, 'surely': 1, 'jumped': 1, 'office': 4, \"we'd\": 2, '<tcmayc5m2xv.jex@netcom.com>': 4, 'ignorant': 1, 'authoritarian': 1, 'flaws': 2, 'careful': 1, 'code': 12, 'relevant': 1, 'issue': 12, 'trouble': 1, 'gun': 3, \"we've\": 2, 'turning': 3, 'strongly': 2, 'self': 1, 'comp.security.misc': 12, 'properly': 2, 'logic': 3, '(202) 456-2461': 1, '->': 2, 'losing': 1, 'seriously': 4, 'melodramatic': 1, 'unapproved': 1, 'wish': 5, 'failed': 1, '3404': 1, 'non-clipper': 1, 'bu.edu': 1, 'buy': 4, 'freedom': 5, 'uni': 1, 'sign': 2, 'characterize': 1, 'restrictions': 3, 'ignorance': 1, 'again': 8, 'nose': 1, 'clinton': 10, 'disclosure': 3, 'prices': 1, 'increasing': 1, '<1993apr17.032828.14262@clarinet.com>': 2, '18': 19, '15299': 1, 'move': 2, 'based': 3, 'consumers': 1, 'neighbor': 1, 'wit': 1, 'letter': 7, 'salt': 1, 'wonder': 4, 'crippled': 1, '/o:': 1, 'april': 5, '1615': 1, 'position': 7, '1547': 1, 'interpretation': 1, 'worse': 2, 'although': 1, 'face': 3, 'hair': 1, 'colleague': 1, 'mortifies': 1, 'encounter': 1, 'notoriety': 1, 'brutal': 2, 'unfortunately': 1, 'entity': 2, '16914': 1, 'proclaimed': 1, 'sig': 3, 'kind': 8, 'reichstag': 1, 'block': 2, 'sir': 1, 'knowledgeable': 1, 'painfully': 1, 'educated': 1, 'uti': 1, 'presidential': 1, 'words': 3, 'att': 2, 'bernhardt': 2, 'yourself': 5, 'standardization': 1, 'equipment': 9, 'agree': 8, 'shocked': 1, 'life': 2, 'encrypted': 15, 'reconcile': 1, 'plain': 3, 'destined': 1, 'lize': 1, 'sectors': 1, 'captain': 1, 'concern': 2, 'chain': 1, 'everyday': 1, 'usa': 10, 'evaluation': 1, 'boston': 4, 'accepted': 1, 'believe': 12, 'regimes': 1, 'jump': 1, '103': 1, 'comp.org.ieee': 10, 'falls': 1, 'becomes': 5, 'linac': 3, 'news@bu.edu': 1, 'lean': 1, 'planned': 3, 'banning': 3, 'realization': 1, 'dramatically': 1, 'logical': 1, 'fail': 1, 'language': 2, 'noone': 1, 'publically': 1, 'ma': 7, '<115863@bu.edu>': 2, 'least': 12, 'evaluated': 1, 'severly': 1, 'full': 3, 'lunacy': 2, '9971': 1, 'academic': 1, \"we're\": 3, 'resistance': 1, 'suspicion': 1, 'country': 4, 'efficiently': 1, 'secretary': 3, 'phrase': 1, 'purchase': 2, 'crunch': 1, 'realize': 2, 'am': 19, 'sly': 1, 'makes': 3, 'archives': 1, 'dealing': 1, 'potato': 1, 'oversight': 1, '97de2b5c3749148c': 1, 'pretty': 9, '<pgp-public-keys@junkbox.cc.iastate.edu>': 1, '<1qpg8finn982@dns1.nmsu.edu>': 3, \"camel's\": 1, 'decoder': 1, 'selling': 4, 'assurances': 3, 'whatever': 3, 'comp.org.acm': 10, 'coercion': 1, 'follow': 4, \"wouldn't\": 8, 'jail': 3, 'dep': 1, 'marketable': 1, 'harmony': 1, 'molitor': 2, 'govt': 3, 'drafters': 1, 'types': 4, 'fast': 3, 'subvert': 2, 'crippling': 1, 'uses': 5, 'signature': 3, 'triple': 2, 'domino': 1, 'knows': 6, 'tent': 1, 'past': 2, 'politics': 2, 'succeeding': 1, 'sovereignty': 1, 'administrations': 2, 'regime': 2, 'hell': 5, 'provided': 5, 'rings': 1, 'drafted': 1, 'alternative': 1, 'day': 6, 'argue': 2, 'really': 12, 'apparent': 1, 'duped': 1, 'siberia': 1, 'acs.bu.edu': 1, 'crafty': 1, 'incidentally': 2, 'difficulties': 1, 'towards': 2, 'assumption': 3, 'partially': 1, 'outlawing': 2, 'evolving': 1, 'purpose': 3, 'brother': 6, 'logan': 1, 'compromised': 1, 'fined': 2, 'had': 17, 'confidence': 3, 'shaen': 2, 'answer': 7, 'collective': 2, 'man': 2, '00:09': 1, 'tapped': 11, 'object': 1, 'ends': 3, 'gaining': 1, 'tamper': 1, 'fire': 3, 'taken': 9, 'signal': 2, 'michael': 1, 'adding': 1, 'cypher': 1, 'steganographic': 1, '<1993apr18.023759.5188@lynx.dac.northeastern.edu>': 1, 'old-fashioned': 1, 'ebrandt@jarthur.claremont.edu': 1, '<1993apr17.085358.18460@clarinet.com>': 1, 'newsserver.jvnc.net': 2, 'mkagalen@lynx.dac.northeastern.edu': 1, '<1qnmnp$db8@sol.tis.com>': 1, 'kagalenko': 1, \"shouldn't\": 5, 'sun': 10, 'transformation': 1, '2.1': 1, 'eli': 1, 'measured': 1, '<c5nmb1.cof@news.claremont.edu>': 1, 'lynx': 2, 'fft': 1, 'countermeasure': 1, 'spectrum': 1, 'increase': 1, '02:37': 1, 'northeastern': 2, 'pre-encryption': 1, 'techniques': 3, 'mkagalen': 1, 'udel': 19, 'beginning': 3, '02115': 1, 'brandt': 1, 'defeated': 1, 'input': 5, 'pre-arranged': 1, 'drastically': 1, 'transmitting': 3, 'graz': 1, 'thanks': 5, '02': 2, 'pl9': 1, 'hi': 5, 'email': 2, 'hermann': 1, 'schinagl@fstgds15.tu-graz.ac.at': 1, 'documentation': 3, 'advance': 1, 'ciao': 1, '12': 5, 'schinagl': 1, 'feal': 1, '09:53': 1, '<1qr8duinnj4a@fstgds15.tu-graz.ac.at>': 1, 'interested': 2, 'austria': 1, 'fstgds15.tu-graz.ac.at': 1, 'encrytion': 1, 'news.univie.ac.at': 1, 'expects': 1, 'ucla-se': 1, '4.if': 1, 'attitude': 3, 'culmination': 1, '2.if': 1, '1550': 1, 'lets': 2, 'connect': 3, 'ucla-cs': 1, 'feed': 2, 'freedoms': 1, 'down': 7, 'et': 2, 'gone': 2, '16922': 1, 'screen': 3, 'obviously': 4, '34': 8, 'actions': 3, 'offer': 2, 'replace': 1, '<ygoland.735123994@wright>': 1, 'handset': 1, 'news@seas.ucla.edu': 1, 'eats': 1, 'depending': 3, 'planning': 1, 'upon': 4, 'transmit': 3, '9973': 1, 'patented': 2, 'guns': 2, 'causes': 1, 'mvb.saic.com': 1, 'ucivax': 1, 'revealed': 3, 'process': 3, 'addressed': 1, '1618': 1, 'performs': 2, 'processes': 2, 'worrying': 1, 'ygoland@wright.seas.ucla.edu': 1, 'lawyers': 2, 'stop': 4, 'ignore': 4, 'everyone': 8, 'computer-vesselin': 1, '3.what': 1, 'displays': 1, '3407': 1, 'specific': 1, 'final': 2, 'insecure': 1, 'disk': 3, 'ygoland': 1, 'slows': 1, 'crashes': 1, 'support': 3, 'eff': 7, 'truly': 1, 'period': 1, 'windows': 1, '15323': 1, 'unogate': 1, 'dorthy': 1, 'sunday': 1, 'reverse': 4, 'times': 2, '09:06': 1, 'moment': 5, '<rlglendec5naji.3ue@netcom.com>': 1, 'hand': 4, 'ignoring': 1, 'widespread': 2, 'themselves': 6, 'wright': 1, 'damage': 3, 'cares': 4, 'care': 15, 'news.service.uci.edu': 2, 'assuming': 3, 'kidding': 1, 'jester': 1, '1.do': 1, 'things': 14, 'silly': 2, 'whom': 2, 'alternatives': 2, 'randomly': 1, 'war': 3, 'bureaucracy': 1, \"suspect's\": 1, 'resulting': 1, '<1993apr18.034352.19470@news.clarkson.edu>': 1, 'lost': 3, 'pay': 2, 'planetary': 2, 'turns': 2, 'furthermore': 1, 'tuinstra@sunspot.ece.clarkson.edu.soe': 1, 'volume': 1, 'case': 14, '52': 2, 'property': 1, 'mention': 1, 'limitations': 2, 'implement': 1, 'results': 2, 'her': 5, 'happens': 4, 'clever': 1, 'databank': 1, 'stolen': 2, 'embarassment': 1, 'dwight': 2, 'necessary': 5, 'bureacracy': 1, 'safeguards': 2, 'requests': 2, 'kinds': 1, 'game': 3, 'tuinstra': 2, 'old': 6, 'bargaining': 1, 'processed': 1, 'turing': 1, 'posession': 1, \"tap's\": 1, 'unlike': 1, 'lawsuits': 1, 'arrest': 1, 'ub': 3, 'financial': 3, 'mishandled': 1, \"there's\": 4, 'authenticated': 1, 'projected': 1, 'lose': 2, 'wiretaps': 1, 'handing': 1, 'bad': 4, 'suppose': 10, 'wh': 1, 'transmission': 2, 'chit': 1, \"let's\": 4, 'aid-to-urban-areas': 1, 'maintain': 4, 'turf': 1, 'license': 2, 'size': 2, 'acute': 1, 'sapiens': 2, 'microsystems': 2, 'agency': 8, 'potentially': 1, 'tuinstrd@craft.camp.clarkson.edu': 2, 'cancer': 2, 'news@news.clarkson.edu': 2, 'comfortable': 1, 'disappear': 1, 'feel': 6, 'gets': 5, 'clarkson': 2, 'idea': 13, 'watch': 1, 'suspects': 3, 'lower-level': 1, 'buying': 1, 'political': 4, 'lot': 7, 'leery': 1, 'tuinstra@sandman.ece.clarkson.edu': 2, 'leads': 1, 'dialing': 1, 'activists': 1, 'within': 5, \"state's\": 1, 'disclosed': 1, 'extra': 3, 'tapes': 2, 'boys': 1, 'pays': 4, 'settlements': 1, 'tolerable': 2, 'moderately': 1, 'clipper-type': 1, 'causing': 1, 'player': 2, 'links': 2, 'lives': 1, 'another': 8, 'homo': 2, 'statutes': 1, 'completed': 1, 'bureaucrats': 2, \"cuomo's\": 1, 'scenario': 2, '03:43': 1, 'cops': 2, 'view': 7, 'tiff': 1, 'sunspot.ece.clarkson.edu': 1, 'goodness': 1, 'bogus.sura.net': 9, 'remark': 1, 'easier': 2, 'hypothetical': 1, '16937': 1, 'egregious': 1, 'neither': 1, 'neat': 2, 'bathroom': 1, 'strict': 3, 'watergate': 1, '3421': 1, 'checkbooks': 1, '<1993apr18.150259.1748@escom.com>': 1, 'donaldson': 1, 'seeing': 1, 'washington': 6, 'rational': 1, 'toward': 3, 'executive': 3, 'chopped': 1, 'let': 8, 'yelling': 1, 'richard': 2, 'bloody': 1, 'sciences': 2, 'lots': 5, 'generic': 1, 'evil': 1, 'dick': 1, 'telling': 2, 'regs': 1, 'effort': 2, 'justify': 2, 'al@escom.com': 1, 'concerns': 6, 'got': 5, '58': 2, 'fmsrl': 1, 'toy': 1, 'post': 6, 'unauthorised': 2, 'gear': 1, 'truth': 5, '21:55': 1, 'dns1.nmsu.edu': 1, 'arrangement': 1, '7': 1, 'calling': 3, 'moink.nmsu.edu': 1, 'ditto': 1, 'instant': 1, 'wait': 5, 'extract': 2, '<1qsip1innnj2@dns1.nmsu.edu>': 1, 'box': 5, 'balance': 3, '9984': 1, 'persecute': 1, \"hell's\": 1, \"they'd\": 2, 'error': 2, 'destroy': 1, 'til': 1, 'amolitor': 1, 'fact': 7, 'anti-christ': 1, 'trot': 1, 'nixon': 3, 'hassle': 1, 'covert': 1, 'lynx.unm.edu': 1, '1560': 1, 'hundred': 2, 'branch': 3, 'guys': 4, 'hold': 4, 'few': 9, 'worth': 2, 'al': 1, 'imagine': 4, 'uh': 1, '1628': 1, 'granted': 3, 'mysterious': 1, 'laws': 7, 'away': 5, '15345': 1, 'xor': 2, 'jhunix.hcf.jhu.edu': 1, 'install': 1, '..': 5, 'noise': 4, 'guard': 2, 'record': 3, \"they've\": 4, 'buffoons': 1, 'abuse': 4, 'pots': 2, 'whether': 5, 'regulation': 1, 'craig': 2, 'dsi': 5, 'douglas': 2, '05:38': 1, 'citizen': 4, 'wupost': 10, 'accuracy': 7, 'mon': 13, 'excepted': 5, 'holland@cs.colostate.edu': 2, '<apr18.204843.50316@yuma.acns.colostate.edu>': 2, 'slightest': 2, '<strnlghtc5pucl.6kp@netcom.com>': 2, 'uscrpac': 5, 'interest': 5, 'errors': 5, 'holland': 2, 'omissions': 5, 'strnlght': 5, 'strnlght@netcom.com': 11, 'alumni.caltech.edu': 1, 'useless': 3, 'm': 4, 'evidently': 2, 'nntp-server.caltech.edu': 1, \"chip's\": 1, 'broadcast': 1, 'k_p': 1, 'pasadena': 1, 'diffie-hellman': 2, 'u_c': 1, 'decrypted': 2, 'elided': 1, 'implemented': 1, '<1qtgl4innhli@gap.caltech.edu>': 1, 'beyond': 1, '06:25': 1, 'aspects': 4, 'possibly': 1, 'result': 3, 'components': 3, 'leaves': 2, 'protocols': 4, 'finney': 1, 'djb@silverton.berkeley.edu': 1, 'initiation': 1, 'receiving': 1, '<1667.apr1821.58.3593@silverton.berkeley.edu>': 1, '<1993apr18.200737.14815@ulysses.att.com>': 1, 'hal@cco.caltech.edu': 1, 'bernstein': 1, 'computed': 1, 'plugs': 1, 'j': 5, 'macintosh': 1, '1.6': 1, 'edt': 4, 'greensboro': 1, 'followups': 1, '15385': 1, 'x-mailer': 1, '23': 11, 'a-series': 1, 'blkhole': 1, 'ltd': 1, 'edward': 2, '3439': 1, 'thanx': 1, 'contracts': 2, '16952': 1, '10001': 1, 'v0': 1, '1640': 1, 'nough': 1, 'ed@titipu.resun.com': 1, 'nosc': 1, 'unisys': 1, '<01010064.ve2cqb@titipu.resun.com>': 1, 'said': 6, 'titipu': 1, '4': 5, 'reid': 1, 'fl': 1, '1570': 1, 'ncr-sd': 1, '13:35': 1, 'uaccess': 1, 'ed': 1, 'gaurds': 1, 'hq': 1, 'mass': 1, 'tbs': 1, 'encryp': 1, '3440': 1, 'aclu': 5, 'corrupting': 1, 'temple': 1, 'spdcc': 1, 'stan': 1, 'figure': 2, 'token': 1, '1641': 1, 'anyways': 1, '<x9d92b4w165w@tacobel.uucp>': 1, 'excellent': 2, '10002': 1, 'joking': 2, 'halves': 3, 'wished': 1, 'merk': 1, '16954': 1, 'comp.or': 1, '15387': 1, 'concord': 1, '<1993apr17.032022.14021@clarinet.com>': 1, '22:03': 1, 'stan@tacobel.uucp': 1, 'tacobel': 1, 'names': 3, 'guardians': 1, 'appreciated': 3, \"i'd\": 10, \"you'd\": 2, '0000': 6, 'modified': 2, 'pipex': 4, 'codec': 1, 'tcp': 2, 'consumer': 1, 'nren': 2, 'normal': 1, '1/2': 1, 'byte': 1, 'jack': 1, 'hardly': 2, 'bytestream': 1, 'feasible': 1, '11:03': 1, '<9304181103.aa12613@pizzabox.demon.co.uk>': 1, 'highest': 1, 'compatible': 1, ':-)': 6, 'stream': 3, 'ought': 1, 'economics': 1, 'heh': 1, 'graham': 6, 'compressed': 1, 'bought': 1, 'bottleneck': 1, 'risc': 1, 'gtoal@gtoal.com': 5, 'dsp': 1, 'quality': 1, 'calls': 5, 'v32bis': 1, 'pounds': 1, 'ha': 1, 'modem': 4, 'usenet@demon.co.uk': 6, 'compression': 1, 'cpu': 1, 'throughput': 1, 'anyway': 5, 'side-step': 1, 'marginally': 1, 'middle': 3, 'beat': 1, 'underground': 3, 'speech': 4, 'reason': 6, 'nasty': 4, '100': 1, 'demon': 6, 'plug': 1, '2kcps': 1, 'andersom@spot.colorado.edu': 3, 'trivial': 1, 'gtoal.com': 4, 'anderson': 4, 'isdn': 2, 'fashioned': 1, 'modems': 1, 'ip': 1, 'voice-mail': 1, 'below': 2, 'functions': 1, '25': 14, 'gtoal': 4, 'digitizing': 1, 'lower': 2, 'afraid': 4, 'become': 2, 'side': 4, 'port': 1, 'write': 2, 'upper': 1, 'software': 8, '46': 4, 'acorn': 1, 'cheap': 6, 'digitisation': 1, 'puts': 2, 'automatic': 1, 'toal': 6, 'microphone': 1, '500': 3, 'archimedes': 1, 'digitising': 1, 'home': 2, 'online': 5, 'rs232': 2, 'marc': 6, 'demonstrated': 1, 'hominem': 1, 'comes': 4, 'committee': 2, 'mind': 6, 'outlawed': 4, 'asserted': 1, 'japanese': 2, '<bontchev.735226636@fbihh>': 1, '<grin>': 2, 'swiss': 2, 'breakable': 1, 'supplied': 2, \"you've\": 1, 'flamed': 1, 'unlawful': 2, 'reported': 1, 'hole': 1, 'examined': 2, 'examine': 2, \"i've\": 5, 'ad': 2, 'corporations': 3, 'boy': 2, \"doors--i'd\": 1, 'stronger': 1, 'reasons': 5, 'corrupted': 1, 'set': 12, 'piece': 2, 'lived': 1, 'intelligent': 1, 'trap': 3, 'statement': 4, 'recognize': 3, 'famous': 1, '99': 1, 'reserve': 1, 'sheep': 1, 'protocol': 3, 'throws': 1, 'level': 3, '<strnlghtc5nrhw.1qb@netcom.com>': 1, \"you'll\": 1, 'sentence': 2, 'criminal': 4, 'fortune': 2, 'satisfy': 1, 'suddenly': 1, 'opinion': 5, 'corporate': 7, 'totalitarian': 1, 'idndication': 1, 'becoming': 1, 'serious': 8, 'firms': 3, 'flames': 1, 'talking': 1, 'penalties': 1, 'staff': 2, 'skin': 1, 'stated': 5, 'sorry': 1, 'associated': 4, 'supporting': 1, 'happier': 1, 'late': 4, 'seal': 1, 'attack': 7, 'accounting': 1, '13:37': 1, 'incompetent': 1, 'changes': 1, 'resistant': 1, 'surprise': 1, 'fides': 2, 'nonsense': 3, 'bona': 2, 'invadable': 1, 'therefore': 2, 'happy': 2, 'surprising': 2, 'pie': 1, 'suggest': 3, 'yeah': 3, 'ceo': 1, 'predicted': 1, 'popular': 2, 'background': 1, 'perspective': 1, 'tomorrow': 1, 'senior': 1, 'considering': 1, 'gumby': 1, 'competence': 1, 'accounts': 3, 'caught': 5, 'motivated': 2, 'net.readers': 1, '<bontchev.735230309@fbihh>': 1, 'population': 3, ':-(': 1, 'millions': 1, 'events': 3, 'thousand': 2, 'battle': 2, 'difference': 6, 'nah': 1, 'asleep': 1, '29': 3, '14:38': 1, 'won': 3, 'seep-minded': 1, 'typical': 2, 'wake': 2, 'sad': 1, 'jerk': 1, 'dorothy': 6, 'united': 2, 'permission': 3, 'denial': 3, 'misinterpretation': 1, 'tm': 1, 'among': 3, 'sage.cc.purdue.edu': 1, 'constitution': 2, 'opposition': 1, 'features': 2, '<1993apr19.130132.12650@afterlife.ncsc.mil>': 1, 'ago': 5, 'carnivals': 1, 'projectile': 1, 'harp': 1, 'beams': 1, 'aj@sage.cc.purdue.edu': 1, 'misinterretation': 1, \"manchester's\": 1, '26': 8, 'judge': 1, 'completely': 5, 'context': 3, 'lasergames': 1, 'states': 3, 'prohibition': 1, '08': 2, 'ct': 1, 'shafted': 1, 'jad@expert.cc.purdue.edu': 1, 'bread': 1, 'operating': 4, 'dormer': 1, '<c5qjs9.fwf@mentor.cc.purdue.edu>': 1, '14:48': 1, 'aj': 1, 'ruled': 2, 'galled': 1, 'carnival': 1, 'light': 5, 'manchester': 1, 'felt': 2, 'agate': 9, 'shooting': 1, 'clearly': 1, 'purdue': 3, 'three': 3, 'news@mentor.cc.purdue.edu': 1, 'travelling': 1, 'ancient': 1, 'daemons': 1, 'weapons': 2, 'enumerating': 1, 'applied': 1, 'mentor.cc.purdue.edu': 1, 'butter': 1, 'stuck': 1, 'operate': 1, 'photon': 1, 'galleries': 1, 'remember': 6, 'added': 2, 'recieved': 1, 'n1nzu': 2, 'shapiro': 2, 'dockmaster': 1, 'joke': 1, 'extropian': 1, 'marc@mit.edu': 2, 'panix': 1, '27': 7, 'nist': 4, 'foia': 1, 'extropy': 1, 'nyc': 1, 'habs@panix.com': 2, '<c5qf4a.9ag@panix.com>': 1, 'site': 1, 'horowitz': 2, 'habs': 1, '13:07': 1, 'domain': 1, \"wasn't\": 2, 'initial': 2, 'staffers': 1, 'placed': 1, 'psinntp': 3, 'alias': 2, 'forwarded': 1, 'csspab': 1, 'mailing': 2, '<marc.93apr18174241@oliver.mit.edu>': 1, 'harry': 2, 'kapor': 1, 'applies': 3, 'addresses': 2, '1991': 1, \"someone's\": 2, '<marc.93apr17211937@oliver.mit.edu>': 3, 'contained': 1, 'contact': 1, 'received': 3, '<tcmayc5o715.mrs@netcom.com>': 1, 'mitch': 1, 'res': 1, 'exemplars': 1, 'kd8wk@n8jyv.oh': 1, 'administering': 1, 'blood': 1, 'passwords': 3, 'hodgepodge': 1, 'godwin': 2, 'incapacitate': 1, 'standards': 6, 'dna': 1, '<1993apr18.233112.24107@colnet.cmhnet.org>': 2, 'judges': 1, '614-864-9377': 1, '<mnemonic@eff.org>': 1, '<c5jzsz.jzo@cs.uiuc.edu>': 1, 'cover': 5, 'mstar': 1, 'incriminate': 1, 'choose': 2, 'none': 2, 'fifth': 3, 'rob@colnet.cmhnet.org': 1, 'acceptable': 1, 'opinions': 10, 'self-incriminating': 1, 'viewed': 1, 'ham': 1, 'wrong': 6, 'rob': 3, 'technologies': 3, 'magnesium.club.cc.cmu.edu': 25, 'protections': 3, 'sadly': 1, 'permanent': 2, '5th': 2, 'res@colnet.cmhnet.org': 1, 'serum': 1, 'stampfli': 1, 'carl': 6, 'injecting': 1, 'amendment': 8, 'incorporate': 1, 'drawing': 2, 'postive': 1, '23:31': 1, 'handwriting': 1, 'salient': 1, 'colnet': 1, '<1993apr15.160415.8559@magnus.acs.ohio-state.edu>': 1, 'violation': 1, \"one's\": 2, 'n8emr': 1, 'compelled': 2, 'mike': 3, 'srt@duke.cs.duke.edu': 1, 's1': 2, 'wire': 1, 'stephen': 3, 'alt.privacy.clipper': 22, 'presto': 1, 'debatable': 1, 'sk': 1, 'caronni': 2, 'word': 4, 'nc': 1, 'uk': 1, 'esteem': 1, 'taps': 1, 'tate': 1, '<1993apr19.162936.7517@bernina.ethz.ch>': 1, 'durham': 1, '<1993apr19.134346.2620@ulysses.att.com>': 2, 'absolutely': 3, 'srt@cs.duke.edu': 1, 's2': 2, '17:29': 1, 'r': 5, 'name-your-favorite-government': 1, 'straight': 3, 'duke': 1, 'mathematics': 2, 'low': 3, 'enjoys': 1, 'seeds': 1, 'turn': 1, '27706': 1, 'germano': 2, 'pushing': 4, 'unit': 4, 'concert': 1, 'extent': 2, 'caronni@nessie.cs.id.ethz.ch': 2, 'pairs': 2, 'orders': 1, 'family': 3, 'fairly': 3, 'distrusts': 1, 'steve': 8, 'batch': 1, 'srt': 1, 'indisputable': 1, 'special': 2, '<735240567@pike.cs.duke.edu>': 1, 'reconstruct': 1, 'einstein': 1, 'ear': 1, 'incorporating': 1, 'non-existant': 1, 'straw-man': 1, 'debate': 4, \"wife's\": 1, 'twice': 1, 'drive': 3, 'top': 1, '478': 1, 'effectiveness': 1, 'defined': 1, 'slightly': 1, 'stu-iiis': 1, 'systematic': 1, 'superhighways': 2, 'non-existance': 1, 'ah': 1, 'conducting': 2, 'removal': 2, 'demo': 1, 'tenor': 1, 'unaskable': 1, 'nistnews': 1, '17:00': 1, 'ring': 2, 'astron': 1, 'proofs': 1, 'proposition': 2, 'additional': 1, 'mexicans': 1, \"today's\": 2, \"president's\": 1, 'steps': 1, 'scrambleing': 1, 'favor': 1, 'attached': 1, 'critisise': 1, 'provisions': 2, 'australia': 1, '___': 2, 'spur': 2, '15429': 1, 'directory': 1, 'hum': 1, 'explicit': 1, 'assumed': 1, 'nuts': 1, 'free': 4, 'questions': 7, 'advanced': 2, 'protection': 3, 'implies': 2, 'balanced': 1, 'unruley': 1, 'amusement': 2, 'basis': 2, 'ofr': 1, 'squashing': 1, 'kgb': 1, 'equilibrium': 1, 'canucks': 1, 'pens': 1, 'contain': 1, 'frequent': 3, 'jim@rand.org': 1, 'street': 3, 'orwell': 1, 'outbreak': 1, 'explain': 2, 'affected': 2, 'sentiment': 1, 'warrents': 1, 'options': 1, 'marketplace': 1, 'erroded': 1, 'soon': 2, 'mixing': 1, 'engineers': 1, 'encrypter': 1, 'group': 7, 'men': 1, 'state-of-the-art': 1, 'breakfast': 1, '38': 5, 'comprimised': 1, 'trewesday': 1, 'encryptions': 1, 'preserved': 1, 'differ': 1, 'ground': 2, 'mandated': 1, 'seeking': 2, 'generaly': 1, 'wonderfull': 1, 'conversation': 5, 'winner': 1, 'explore': 1, 'compulsory': 1, 'shoe': 2, 'prone': 3, 'asks': 1, 'stamp': 1, 'relevent': 1, 'express': 3, 'note': 4, 'accelerate': 1, 'disorderly': 1, 'smuggling': 2, 'warrent': 1, 'sucks': 1, 'century': 1, 'repugnant': 1, 'gillogly': 1, 'brazilians': 1, 'competitiveness': 1, 'consultations': 1, 'reveal': 2, 'millenia': 1, 'enforcers': 1, 'timely': 1, 'agenda': 2, 'either-or': 1, 'abuses': 1, 'resulted': 1, 'literaly': 1, 'cia': 1, 'tightening': 1, 'accompanying': 1, 'modestly': 1, 'numbers': 1, 'hand-waved': 1, 'cabinet': 1, 'jim': 3, 'transfer': 2, 'immediate': 1, 'tone': 1, 'industries': 1, 'deem': 1, 'exportability': 1, \"administration's\": 2, 'giggle': 1, 'included': 3, 'early': 5, 'bbs': 2, 'cases': 3, 'repeated': 1, 'wider': 1, 'entertainment': 1, 'cc.curtin.edu.au': 1, 'build': 4, 'negotiable': 1, 'abroad': 1, 'mandateed': 1, 'work-bench': 1, 'permitting': 1, 'ibm': 3, '16968': 1, 'microcircuit': 1, 'represents': 2, '18:05': 1, 'fofr': 1, 'stored': 2, 'key-eschrow': 1, 'non-proposal': 1, 'establishing': 1, 'folks': 5, 'unprecedented': 2, 'cujo': 1, 'ball': 1, 'ultra-national': 1, 'manager': 1, 'magnanamous': 1, 'assessment': 1, 'impeed': 1, 'commerce': 2, 'containing': 1, 'licenses': 1, 'cvs': 1, 'reluctantly': 1, 'hdtv': 2, 'safeguarding': 4, 'munnari.oz.au': 2, 'smugglers': 2, 'blurred': 1, 'ex': 1, 'ever': 4, 'bush': 3, 'circuits': 1, 'retoric': 1, 'codes': 3, 'suitable': 2, 'als': 1, 'engineering': 9, 'leaving': 2, 'mat': 1, 'funds': 4, 'images': 2, '<1993apr20.030538.1@cc.curtin.edu.au>': 2, 'lesson': 1, 'carfully': 1, 'posting': 4, 'news@cujo.curtin.edu.au': 1, 'possibility': 1, 'conveniant': 1, 'ordanary': 1, 'alt': 1, 'reasoned': 1, 'uniwa': 1, 'contarary': 1, 'normmaly': 1, 'info': 2, 'directed': 1, 'govenment': 1, 'abusing': 1, 'heard': 5, 'demonstrate': 1, 'normally': 3, 'indicate': 1, 'responsible': 3, 'crock': 1, 'inexpensive': 1, 'coms': 1, 'phone-mode': 1, 'scrabeling': 1, 'putting': 2, 'bow': 1, 'high-speed': 2, 'love': 3, 'desired': 1, 'emerge': 1, 'swing': 1, 'happened': 3, 'insert': 1, 'embasies': 1, 'wireless': 1, 'heyman': 1, 'mask-work': 1, 'courts': 2, 'points': 2, 'saleks': 1, 'promote': 2, 'missed': 1, 'directive': 1, '301-948-5717': 1, 'accommodates': 1, 'itars': 1, 'zrepachol': 1, 'cyphers': 1, 'france': 2, 'unique': 1, 'advocate': 1, 'gesture': 1, 'commun': 1, 'lawers': 1, 'nights': 1, 'ications': 1, 'trends': 1, 'vs': 1, 'endorsed': 1, 'csrc.ncsl.nist.gov': 2, 'quick': 2, 'developing': 2, 'intercepts': 2, 'nothings': 1, 'rephrased': 2, 'document': 2, 'impeaded': 1, 'dropped': 1, 'eschrow': 1, 'white-house': 1, 'created': 2, 'clasic': 1, 'curtin': 1, 'attractions': 1, 'answers': 2, 'global': 1, 'welcome': 1, 'sheet': 2, 'vice': 1, 'non-real-time': 1, 'revealing': 2, 'harmoniously': 1, 'decade': 1, 'buck': 1, 'authorized': 3, 'huge': 2, 'grammar': 1, 'contract': 1, '(301) 975-2758': 1, 'appear': 1, 'system-wide': 1, 'bob': 2, 'hacker': 2, 'daresay': 1, 'skipjack': 3, '<c5qxnx.bmm@well.sf.ca.us>': 1, 'meaning': 2, 'bickford': 1, 'circumvent': 1, 'discovering': 1, 'deployed': 1, 'derives': 1, 'businessmen': 1, 'juvenile': 1, 'effects': 1, 'lectronic': 2, 'irrelevant': 3, 'joy': 1, '19:47': 1, 'class': 2, 'separate': 1, 'rab@well.sf.ca.us': 1, 'immediately': 1, 'pointed': 1, 'earth': 3, 'benefit': 3, 'well.sf.ca.us': 2, 'bitstream': 1, 'rab': 1, 'remove': 1, 'news@well.sf.ca.us': 2, 'delinquents': 1, 'hackers': 5, 'credit': 1, 'body': 4, 'contesting': 1, 'consulting': 3, 'budget': 4, 'works': 4, '<wcs.93apr17024857@rainier.att.com>': 1, 'espionage': 1, 'bubba': 1, 'individual': 5, '<rdippold.735277005@qualcom>': 1, 'gilbert': 1, 'extensive': 1, '<jhessec5ltt5.imc@netcom.com>': 1, 'advocacy': 1, 'johng@ecs.comm.mot.com': 1, 'innocent': 3, 'pledge': 1, 'look': 4, 'tue': 10, 'asking': 2, 'slap': 1, 'bystander': 1, 'went': 4, 'cut': 7, '03:36': 1, 'exactly': 5, 'left': 4, 'watching': 1, 'dog.ee.lbl.gov': 1, '<1993apr19.223017.14368@lmpsbbs.comm.mot.com>': 1, 'blame': 3, 'condition': 1, 'laissez': 3, 'pmetzger@shearson.com': 3, '<pmetzger.93apr20062134@snark.shearson.com>': 1, 'switzerland': 1, \"aren't\": 4, 'obliged': 1, 'gurantee': 1, 'de': 4, 'pmetzger@lehman.com': 1, 'obligation': 1, 'perry': 5, 'intelligble': 1, 'sufficent': 1, 'provider': 1, 'in-reply-to': 1, 'monde': 3, 'authorisation': 1, 'metzger': 5, '<1qv83m$5i2@geraldo.cc.utexas.edu>': 1, 'pmetzger': 3, 'guessed': 2, 'le': 3, 'faire': 3, '00:03': 1, 'pmetzger@snark.shearson.com': 5, 'newshost': 1, '<1993apr20.000359.20098@bernina.ethz.ch>': 1, 'news@shearson.com': 2, 'service': 5, 'va': 5, 'lehman': 1, 'news.intercon.com': 2, '11:21': 1, 'domestic': 1, 'lui': 3, 'meme': 3, 'passer': 3, 'shearson.com': 2, '<1993apr19.180049.20572@qualcomm.com>': 1, '14:53': 1, 'ameline@vnet.ibm.com': 1, 'wetware': 1, 'papers': 6, 'screw': 4, 'pentagon': 1, 'capacity': 1, 'official': 1, 'punish': 3, 'employee': 1, 'contractor': 1, 'carr': 2, 'ameline': 1, '<c5qy3m.de3@agora.rain.com>': 1, '<19930419.155204.305@almaden.ibm.com>': 2, 'lawyer': 2, 'untrue': 1, 'spooks': 3, 'aquire': 1, 'stealing': 1, 'ian': 1, 'utterly': 2, '32': 5, 'pacific.mps.ohio-state.edu': 6, 'engineer': 2, 'encumbered': 1, 'america': 2, 'legitimately': 2, '<1r0ausinni01@senator-bedfellow.mit.edu>': 2, 'jfc@athena.mit.edu': 2, 'snark': 2, 'precedent': 1, 'wsrcc.com': 1, 'partnership': 2, '<1993apr20.145338.14804@shearson.com>': 2, 'spunky.redbrick.com': 1, 'fastrac.llnl.gov': 1, 'hard-core': 3, 'knowlege': 1, 'lll-winken.llnl.gov': 1, '65': 3, 'gtoal@news.ibmpcug.co.uk': 1, \"it'll\": 1, '<9304191834.aa16280@pizzabox.demon.co.uk>': 1, 'sit': 1, 'uknet': 3, 'doc.ic.ac.uk': 2, 'disagree': 4, 'having': 4, 'conceivable': 1, 'cray': 2, 'hint': 1, 'xyz': 1, \"proposals--it's\": 1, 'exclusion': 1, 'superhighway': 1, 'applying': 1, 'hints': 1, 'geovernment': 1, '18:34': 1, 'permitted': 1, 'honestly': 1, 'angling': 1, 'exceptions': 2, \"people's\": 3, 'audit': 3, 'traditionally': 1, 'criticize': 1, 'plaintiff': 1, 'wants': 4, 'programmer': 2, 'grant': 3, \"yesterday's\": 1, 'figured': 1, 'auditor': 1, 'liked': 1, 'grant@dockmaster.ncsc.mil': 1, 'versus': 2, 'automatically': 1, 'imho': 1, 'complete': 1, '21:07': 1, 'stock': 1, 'choice': 3, 'brought': 2, 'auditors': 1, 'grant.ca1@dockmaster.ncsc.mil': 1, 'mistakes': 2, 'gateway': 3, 'liberties': 5, 'infuriated': 1, 'critcize': 1, 'bursting': 1, 'yesterday': 2, 'dust': 1, 'protecting-the-aclu': 1, 'nigel.msen.com': 1, 'news-mail-gateway': 1, 'compromises': 1, 'determining': 1, 'drum': 1, '<930420210707.956366@dockmaster.ncsc.mil>': 1, '00': 2, 'recommend': 1, 'signed': 2, \"aclu's\": 1, 'processing': 1, 'wind': 1, 'poor': 4, 'trickier': 1, 'lynn': 1, 'cs.yale.edu': 1, 'suggested': 1, 'checks': 1, 'fix': 1, 'protecting-the-client': 1, 'auditee': 1, 'registrar': 1, 'civil': 7, 'administered': 1, 'job': 1, 'bites': 1, 'defendant': 2, 'printed': 1, 'destroyed': 1, 'deprive': 1, 'legit': 1, 'operational': 1, 'stunk': 1, 'stint': 1, 'daemon': 1, 'independence': 1, 'worked': 5, 'essentially': 2, \"auditor's\": 1, 'payroll': 1, 'emphasized': 2, 'theme': 2, 'audience': 2, 'merely': 1, 'f-o-r-f-e-i-t-u-r-e': 2, 'frequently': 2, 'spell': 2, '<rdippold.735253985@qualcom>': 2, 'geoff@ficus.cs.ucla.edu': 1, 'vote': 2, 'urgency': 2, 'denying': 2, 'door': 4, 'expressed': 4, 'accompli': 1, 'stages': 2, '<1993apr19.193528.5655@cs.ucla.edu>': 2, \"doesen't\": 2, '1-26-': 2, '1668': 1, 'boulder': 1, 'careerists': 1, 'andersom': 1, 'escalation': 2, 'supported': 3, 'relief': 2, '3487': 1, 'wed': 11, '15549': 1, 'colorado': 2, 'fiscal': 2, \"clinton's\": 2, 'along': 3, 'evaders': 2, 'gums': 2, 'fresh': 2, '<2073@rwing.uucp>': 3, 'geoffrey': 1, 'communicate': 2, 'improved': 2, 'fighting': 3, 'presented': 4, 'campaign': 3, 'repugnance': 1, 'luxury': 2, 'offenders': 2, '00:17': 1, 'acquiescing': 1, 'first-time': 2, '10044': 1, 'federation': 2, 'criticism': 1, 'ballots': 2, 'gestapo': 1, 'proved': 2, 'upi': 2, 'embraced': 1, 'tax': 2, 'gore': 1, 'everything': 5, 'forms': 3, 'statements': 3, 'activity': 2, 'live': 2, 'repeatedly': 2, 'microscopic': 2, 'excuse': 2, 'so-called': 3, 'half-hearted': 2, 'convention': 2, 'youthful': 2, \"year's\": 2, 'plans': 2, 'delegates': 2, 'advocates': 2, 'menace': 2, 'news@ucsu.colorado.edu': 1, 'lay': 1, 'ucsu': 1, 'kuenning': 1, 'cabinet-level': 2, 'surrender': 2, '3rd': 2, 'candidate': 2, '1596': 1, 'deficit-causing': 2, 'presidency': 1, 'boot': 2, 'commisioners': 2, '17018': 1, 'innaugural': 2, 'hope': 3, 'legalization': 2, 'fruition': 1, 'require': 3, 'fringe': 2, 'interrupted': 2, 'regardless': 5, 'career': 1, 'horror': 1, 'grandchildren': 2, 'voted': 2, 'contradict': 2, 'expense': 2, 'originated': 1, 'applause': 2, 'tried': 2, 'november': 3, 'cast': 2, 'czar': 2, 'fait': 1, 'shares': 2, 'bare': 2, 'optimism': 2, 'teeth': 2, 'spot.colorado.edu': 1, 'drugs': 4, 'camps': 2, 'outline': 2, 'paragraph': 2, '<1993apr21.001707.9999@ucsu.colorado.edu>': 2, 'crackdowns': 2, 'formats': 3, 'waco': 3, 'pernicious': 2, '15550': 1, 'tactic': 2, 'umn.edu': 3, '23:50': 1, '<1993apr20.021846.2423@shearson.com>': 4, 'massacre': 2, '<strnlghtc5t3k6.inf@netcom.com>': 3, '<tcmayc5rs6n.lz8@netcom.com>': 3, '<strnlghtc5t4d6.jn8@netcom.com>': 1, 'taiwanese': 1, '15556': 1, 'korean': 2, 'compile': 1, 'workers': 1, 'stupidity': 4, 'fascist': 1, 'spying': 1, 'voice-encryption': 1, '<c5rrtd.1gz@agora.rain.com>': 1, 'spit': 1, 'gear--i': 1, 'international': 1, 'asic': 1, 'hart': 2, 'jobs': 1, 'facto': 1, '53': 4, 'silicon': 2, 'importing': 1, 'jhart@agora.rain.com': 2, 'dutch': 1, 'diplomats': 1, '00:07': 1, 'c5qy3m.de3@agora.rain.com': 1, 'import': 1, 'electronics': 1, 'bans': 1, 'somewhere': 3, 'legally': 1, 'german': 2, 'contempt': 2, 'refusal': 1, 'children': 1, 'woman': 1, 'she': 3, 'sending': 2, 'phil': 1, 'karn': 1, 'kiss': 1, 'evidence': 2, 'routinely': 1, 'confess': 1, 'chicago': 2, '43': 1, 'location': 2, 'material': 2, 'ie': 2, 'oddly': 1, 'smk5@midway.uchicago.edu': 1, 'suit': 1, 'confessions': 1, 'routine': 1, '<1993apr13.214520.2075@magnus.acs.ohio-state.edu>': 1, 'kid': 1, '<1993apr13.143712.15338@cadkey.com>': 1, 'quads': 1, 'shall': 2, 'caveat': 1, 'child--this': 1, 'murder': 3, 'msuinfo': 2, 'charges': 2, 'fertile': 1, 'copyrighted': 1, 'held': 1, 'girl': 1, '5': 4, 'proabably': 1, 'suspected': 1, 'guilty': 1, 'tortured': 1, 'school': 2, 'injured': 1, 'mouth': 1, 'news@uchinews.uchicago.edu': 1, 'uchinews': 2, 'catch': 1, 'jake': 1, 'witness': 1, 'add': 3, 'accused': 1, 'porn': 3, '<1993apr14.055903.5358@qualcomm.com>': 1, 'cooperation': 2, '0.02': 1, 'infringement': 1, 'ages': 1, '<1993apr21.023319.13965@midway.uchicago.edu>': 1, 'kramarsky': 1, '02:33': 1, 'smk5@quads.uchicago.edu': 1, 'nets': 1, 'child': 1, 'copyright': 1, 'smk': 1, 'himself': 2, 'thread': 1, \"phil's\": 1, 'crooks': 1, 'custody': 1, 'lord': 1, 'prosecution': 1, 'tricky': 1, 'steve@faerie.chi.il.us': 1, 'defense': 3, 'murdered': 1, 'mother': 1, 'party': 3, 'independently': 1, 'night': 1, 'karn@servo.qualcomm.com': 1, 'following': 2, 'shut': 1, 'kiddie': 1, 'father': 1, 'lead': 3, 'refusing': 1, 'infomative': 1, '. .': 1, 'plead': 1, 'hanging': 1, 'landing': 1, 'crinial': 1, 'naughty': 1, 'sued': 1, 'sci': 1, 'brennan': 2, 'sex': 2, 'various': 4, '15566': 1, 'expression': 1, '<4014.apr2003.03.4093@silverton.berkeley.edu>': 2, 'kadie@cs.uiuc.edu': 2, 'il': 1, 'kadie': 2, 'supreme': 1, 'justices': 2, 'pico': 1, 'organized': 5, '<c5tbpd.lt@cs.uiuc.edu>': 2, '<1993apr20.213718.23129@husc3.harvard.edu>': 3, 'kubo': 1, 'anti-christian': 1, 'thurgood': 2, 'represent': 2, 'pictures': 2, 'comp': 1, '1982': 1, 'anti-american': 1, 'defend': 5, 'education': 1, 'universities': 2, 'library': 1, 'kubo@zariski.harvard.edu': 1, 'prevented': 1, 'lobbying': 5, '02:46': 1, 'illinois': 2, 'v': 1, '17022': 1, 'plurality': 1, 'marshall': 2, 'efforts': 2, '_board': 1, 'anti-semitic': 1, 'byron': 2, 'filthy': 1, 'tal': 1, 'stevens': 2, 'urbana': 1, 'cs.uiuc.edu': 1, \"eff's\": 2, '<1r2gb5$h0r@transfer.stratus.com>': 3, '01': 3, 'exception': 1, 'baggage': 1, 'coyoacan.sw.stratus.com': 1, 'erotica': 2, 'pallets': 1, 'se': 2, 'transfer.stratus.com': 3, '03:51': 1, 'tarl@coyoacan.sw.stratus.com': 2, 'associate': 2, 'stance': 2, '17026': 1, '15570': 1, 'organizations': 3, 'neustaedter': 2, 'drag': 1, 'tarl': 2, 'ending': 1, 'stratus': 3, 'luis': 1, 'intended': 2, '<5703@calmasd.prime.com>': 1, 'jpb@calmasd.prime.com': 1, 'apologize': 1, 'usenet.ufl.edu': 1, '_use_': 1, 'usenet.cis.ufl.edu': 1, 'bunuel': 1, 'reads': 2, 'dense': 1, 'waste': 1, 'calmasd': 1, 'bielawski': 1, 'accomplishes': 1, 'jan': 1, 'screenplay': 1, 'jpb': 1, '17034': 1, 'computervision': 1, 'total': 1, 'incredible': 1, '15586': 1, '17:51': 1, 'absolute': 1, 'lifted': 1, 'mystical': 1, 'ton': 1, '09:31': 1, '<9304200931.aa05240@pizzabox.demon.co.uk>': 1, 'keyseach': 5, 'smart': 2, '9': 5, 'shelf': 5, 'engines': 1, 'toyon-next.stanford.edu': 1, 'pair': 2, 'react': 1, 'smtp': 2, 'explanation': 1, 'miller': 2, 'spoofing': 1, 'gendlin': 1, 'keen': 1, 'josh': 2, '<1993apr21.133445.3930@leland.stanford.edu>': 1, 'rick': 2, '<rick@ee.uwm.edu>': 2, \"t'boot\": 1, 'sombody': 2, 'jurgen': 2, '<1r3hgqinndaa@uwm.edu>': 1, 'sincerely': 2, 'jbotz@mtholyoke.edu': 2, 'purinton@toyon-next.stanford.edu': 1, 'news@leland.stanford.edu': 1, 'stanford': 1, 'jordan': 1, 'snooping': 5, 'nntp.stanford.edu': 1, 'crew': 1, '13:34': 1, 'botz': 2, 'cripple': 2, 'commands': 2, '<1r1om5$c5m@slab.mtholyoke.edu>': 2, 'headwall.stanford.edu': 1, 'purinton': 1, 'joshua': 1, 'reread': 1, 'worry': 2, 'lying': 1, 'vary': 1, 'bell': 2, 'noticed': 2, 'subkey': 1, 'thumb': 1, 'contrast': 1, 'sore': 1, 'biased': 1, 'bellovin': 1, 'lie': 1, 'copies': 2, 'absence': 2, 'arithmetic': 1, '<1993apr20.150531.2059@magnus.acs.ohio-state.edu>': 1, 'credibility': 4, 'copied': 1, 'smb@research.att.com': 1, 'smb': 1, 'flipping': 1, 'thousands': 2, 'recover': 1, 'agents': 1, \"haven't\": 3, 'happen': 1, 'round': 1, 'generation': 2, 'claiming': 2, 'detected': 2, 'sabotaged': 1, 'externally': 1, 'half-keys': 1, '<1993apr19.093227.1093@jarvis.csri.toronto.edu>': 1, 'ambiguous': 1, 'meade': 1, 'arrangements': 1, 'ulysses': 1, 'constant': 1, '<gtoal@gtoal.com>': 1, '15609': 1, '<1993apr20.192105.11751@ulysses.att.com>': 2, \"weren't\": 3, 'enter': 1, '13:23': 1, 'mirrors': 1, 'laboratories': 1, 'schedule': 1, 'transporter': 1, 'subtle': 1, 's-boxes': 1, 'seen': 6, 'retain': 2, '2595': 1, 'lied': 1, \"denning's\": 2, '<c5sy1z.4td@demon.co.uk>': 1, 'civilian': 1, 'cheat': 1, 'smoke': 1, 'promised': 2, 'seed': 1, 'oops': 1, 'verified': 2, 'crudely': 1, 'invented': 1, 'average': 3, 'des-like': 1, 'count': 2, 'smoke-and-mirrors': 1, 'regenerate': 1, 'fort': 1, 'senator': 1, 'storage': 1, 'steven': 1, 'cahoots': 1, 'alt.security.pgp': 11, 'doors': 3, '<1993apr21.132318.16981@ulysses.att.com>': 1, 'rate': 1, '17:12': 1, 'personel': 1, 'formed': 1, 'perf': 1, 'wpi': 1, 'rboudrie': 1, 'ps': 1, 'tallking': 1, 'decruption': 1, '<1993apr21.171216.9342@chpc.org>': 1, 'chpc.chpc.org': 1, 'rboudrie@chpc.org': 1, 'marlboro': 1, 'propoganda': 2, 'newly': 1, 'non-escrowed': 1, 'ministry': 1, \"gov't\": 2, 'gummit': 1, 'entire': 1, 'boudrie': 1, 'authorizes': 1, 'preventing': 1, 'anarch-cryptists': 1, 'assuring': 1, 'weapon': 1, 'employer': 1, 'interfering': 1, '216-5888': 1, 'charge': 4, 'a_rubin': 1, 'thrown': 1, 'upheld': 1, 'progressive': 1, '22:42': 1, 'rubin': 1, 'discovered': 1, '<1r47l1inn8gq@senator-bedfellow.mit.edu>': 1, 'includes': 3, 'beckman.com': 1, 'broke': 1, '70707.453@compuserve.com': 1, 'drivers': 1, 'arthur': 1, 'nuclear': 1, 'instruments': 1, 'beckman': 1, 'arthur@pnet01.cts.com': 1, '<a_rubin.735432140@dsg4.dse.beckman.com>': 1, 'sufficiently': 1, 'brea': 1, '_automatically_': 1, 'policeman': 1, 'officer': 1, '@mcimail': 1, 'com': 1, 'yours': 2, 'a_rubin@dsg4.dse.beckman.com': 1, 'allowed': 3, 'l': 2, 'speed': 1, 'violate': 1, 'dsg4.dse.beckman.com': 1, 'pocket': 1, 'transit': 1, 'hijack': 1, 'on-site': 1, 'tape': 2, 'bomb': 1, 'dcd': 1, 'slcs.slb.com': 1, 'conveniently': 1, '21:51': 1, 'castor.se.houston.geoquest.slb.com': 1, 'databases': 1, 'news.sinet.slb.com': 1, '<strnlghtc5puor.704@netcom.com>': 1, 'off-site': 1, 'copy': 1, 'um': 1, 'dcd@se.houston.geoquest.slb.com': 1, '<1993apr21.215131.29323@slcs.slb.com>': 1, 'houston': 1, 'misplaced': 1, 'csn': 2, '8mm': 1, 'exabyte': 1, 'news@slcs.slb.com': 1, 'dan': 1, 'fits': 2, '31': 4, '<bontchev.735230663@fbihh>': 1, 'store': 1, 'intent': 3, 'freeing': 1, 'geoquest': 1, '15677': 1, 'surround': 1, 'begun': 1, 'scanlon': 1, 'cat': 1, 'bag': 1, '06/31': 1, 'fourth': 3, 'compromise': 2, 'approve': 2, 'usenet@gmuvax2.gmu.edu': 1, 'degree': 2, 'privately': 1, 'gmuvax': 1, 'tfs': 1, 'weaknesses': 2, 'blindness': 1, 'conspiricy': 1, 'mason': 1, 'opened': 1, 'garbage': 1, 'vulnerable': 1, 'wide': 1, 'news.umbc.edu': 1, '<pmetzger.93apr18141006@snark.shearson.com>': 1, 'strategies': 1, 'investigation': 1, 'sincerly': 1, 'struck': 1, 'marginaly': 1, 'sample.eng.ohio-state.edu': 1, 'activly': 1, 'stratigies': 1, '<c5s6i7.n0m@dcs.ed.ac.uk>': 1, 'strengths': 1, 'tfs@gravity.gmu.edu': 1, '<8aohonj024n@sktb.demon.co.uk>': 1, 'spans': 1, 'nature': 1, 'wether': 1, 'gravity.gmu.edu': 1, 'stunning': 1, 'useage': 1, 'strategy': 1, 'confirms': 1, 'morons': 1, 'insist': 2, 'damn': 2, 'death': 1, 'adds': 1, 'exist': 3, 'unavoidibly': 1, 'tool': 2, 'larger': 1, 'fairfax': 1, '<1993apr21.222512.12164@gmuvax2.gmu.edu>': 1, 'advent': 1, 'unintellgible': 1, 'penalty': 1, 'blindly': 1, \"pandora's\": 1, 'despite': 1, 'bottom': 1, 'george': 1, 'damned': 1, 'existing': 1, 'hmm': 2, 'slowed': 1, 'status': 1, '22:25': 1, 'obtainible': 1, 'potentialy': 1, 'second': 4, 'familiar': 1, 'avenue': 2, 'windows-print-capture': 1, '04:32': 1, '15688': 1, 'eab': 1, 'supercomputer': 1, 'minneapolis': 1, '<1993apr21.163929.21149@eff.org>': 1, '(612) 626-1888': 1, '(612) 645-0168': 1, '<1993apr22.043233.8855@uc.msc.edu>': 2, '1200': 1, 'msc.edu': 1, 'mn': 1, 'minnesota': 1, '<1993apr21.135242.27277@magnus.acs.ohio-state.edu>': 1, 'lobby': 2, 'bertsch': 1, 'elected': 1, '17089': 1, 'netnews@uc.msc.edu': 1, 'thu': 11, 'uc': 1, 'disclaimer': 4, 'area': 1, 'eab@msc.edu': 1, '<gfpj4tb0bwwb0dww02@transarc.com>': 1, '33': 2, 'manage': 1, \"msci's\": 1, 'south': 1, 'uc.msc.edu': 1, 'raistlin': 1, 'exclusively': 1, 'notifying': 1, '55415': 1, 'feelings': 1, '22:26': 1, 'cheese': 1, 'butt': 1, 'element': 1, 'uncertainty': 1, 'md': 3, 'limit': 3, 'digex.com': 2, 'covering': 1, 'greenbelt': 2, 'hear': 1, 'steve-b@access.digex.com': 3, 'field': 4, 'fud': 1, 'vaguely': 1, 'fear': 1, 'solid': 1, 'competition': 1, 'access.digex.net': 2, 'superior': 1, 'factor': 1, 'decisive': 1, 'brinich': 3, '<1r4vo3$koj@access.digex.net>': 1, '48': 1, 'leader': 2, 'gutmann': 2, 'waikato.ac.nz': 2, '1930': 1, 'invent': 1, 'provoke': 1, 'reaction': 1, '15702': 1, 'peter': 3, '<1993apr22.065357.9667@cs.aukuni.ac.nz>': 1, 'sounds': 1, 'aukuni.ac.nz': 2, '06:53': 1, 'suitably': 1, 'pgut': 2, '57': 3, 'auckland': 2, 'comp.vuw.ac.nz': 1, 'pgut1@cs.aukuni.ac.nz': 2, 'cs18.cs.aukuni.ac.nz': 2, '17098': 1, 'reality': 1, '10073': 1, '10:20': 1, 'logging': 1, 'gw7z': 1, 'sessions': 1, 'news@infodev.cam.ac.uk': 1, 'nott': 1, 'england': 1, 'gtf': 1, 'bootes.cus.cam.ac.uk': 1, 'falk': 1, 'purportedly': 1, 'ajiif': 1, '22/04': 1, 'allowing': 1, 'iqbvagubk': 1, '6tsm': 1, 'ymqbwmvholm': 1, 'peoco': 1, 'unsigned': 1, '9glpoz5odkhynw8': 1, 'password': 2, 'bnrgate': 1, '9zxmtqrcjh0adt3aqfhrwh9hwbpywwr': 1, 'pavo.csi.cam.ac.uk': 1, 'torn': 1, 'bnr.co.uk': 2, 'utility': 1, 'cambridge': 1, 'telnet': 2, 'snoop': 2, 'remotely': 1, 'gtf1000@cus.cam.ac.uk': 1, '7bub4jpybqanpkmz8tdd4tyuinsx68cvg': 1, '<1993apr22.102016.4080@infodev.cam.ac.uk>': 1, '1000': 1, '<c5uxgv.dv7@panix.com>': 1, \"what's\": 1, 'requested': 2, 'affiliated': 1, 're-disable': 1, 'months': 1, '17:01': 1, 'places': 1, 'unfriendly': 1, 'csrc': 1, 'duplicated': 1, 'named': 1, 'disabling': 2, 'dove': 1, '<c5w1ac.ik9@dove.nist.gov>': 1, 'solely': 1, 'crash': 2, 'rightfully': 1, 'connected': 1, 'monitor': 4, 'handling': 1, 'hidden': 3, 'backups': 1, 'announcements': 1, '220': 1, 'forum': 1, 'escape': 1, 'agendas': 1, 'helpful': 1, 'advisory': 2, 'expn': 1, 'lists': 2, 'sigh': 1, '13:54': 1, 'character': 2, '@csrc': 1, 'csspab@mail-gw.ncsl.nist.gov': 1, 'albeit': 1, 'account': 4, 'cert': 1, 'disabled': 1, 'first.org': 1, 'incident': 1, 'saw': 2, 'motives': 1, 'address': 3, 'recognizes': 1, 'apologized': 1, 'speculating': 1, 'csspub': 1, 'sendmail': 1, 'europe': 1, 'disorganized': 1, 'continue': 2, 'ready': 2, 'wack': 1, 'world-wide': 1, 'vrfy': 1, 'deleted': 1, 'first-hand': 1, 'contains': 4, 'unintentional': 2, '129.6': 1, '1987': 2, 'rebuilding': 1, 'response': 4, '54.11': 1, 'crackers': 1, 'teams': 1, 'rn': 1, 'news@dove.nist.gov': 1, 'cc': 2, '4.1': 1, 'command': 1, 'effect': 4, 'gaithersburg': 1, '1990': 1, 'gregb': 1, '20899': 1, 'news@den.mmc.com': 1, 'gregb@den.mmc.com': 1, 'laboratory': 1, '15:24': 1, 'tosgcla.den.mmc.com': 1, 'news.den.mmc.com': 1, 'astronautics': 1, 'james': 3, 'tex': 1, 'denver': 1, 'dsinc': 1, 'marietta': 1, 'postscript': 1, 'nechvatal': 1, 'obtained': 1, 'martin': 3, 'formatting': 1, 'symbolic': 1, 'december': 1, '<gregb.735492255@tosgcla>': 1, 'gregb@tosgcla.den.mmc.com': 1, 'pitt.edu': 3, 'prediction': 1, 'hong': 1, 'frequency': 1, 'markov': 1, 'pjhong@clio.rad.sunysb.edu': 1, 'joseph': 1, 'insti.physics.sunysb.edu': 1, '16:34': 1, \"pushkin's\": 1, 'pjhong@cs.sunysb.edu': 1, 'extension': 1, 'predict': 1, 'clio.rad.sunysb.edu': 1, 'tables': 1, 'modeling': 1, 'novel': 1, 'sequences': 1, 'sbcs.sunysb.edu': 1, 'pl3': 1, 'pjhong': 1, 'magazine': 1, '<1r6hf0$g2i@insti.physics.sunysb.edu>': 1, '_eugene': 1, 'phoneme': 1, 'physics': 2, 'onegin': 1, '<1993apr17.001805.11432@clarinet.com>': 1, 'evaporate': 1, 'prophecy': 1, 'totally': 6, 'outlook': 1, 'amazingly': 1, 'nebulous': 1, '1694': 1, 'identity': 1, 'myrto': 4, 'philosophy': 2, 'reader': 1, 'belive': 1, 'maintaining': 1, 'philosophically': 1, '18:41': 1, 'awareness': 1, 'wasre': 1, 'seeks': 1, 'trend': 2, '15738': 1, 'rebecca': 1, 'safekeeping': 1, 'msnyder': 1, \"else's\": 1, 'sees': 1, 'high-tech': 1, 'nmt.edu': 1, 'recorder': 1, 'snyder': 1, 'jewels': 1, '<1qnpjuinn8ci@gap.caltech.edu>': 1, 'accurate': 2, 'unprivileged': 1, 'danger': 1, 'submitted': 1, 'pat': 4, 'media': 2, 'btw': 2, '10080': 1, 'tech': 1, 'commoner': 1, 'accomplished': 1, 'unconnected': 1, '1984': 1, 'eavesdrop': 1, 'combine': 1, 'dependent': 1, 'red': 1, 'eavesdropping': 2, '0i': 1, 'entitiled': 1, '<2076@rwing.uucp>': 1, 'msnyder@nmt.edu': 1, 'controlling': 1, '1623': 1, '17114': 1, 'majority': 1, 'extremely': 1, 'streamlining': 1, 'cards': 1, '<1993apr21.184113.3505@nmt.edu>': 1, 'rogue': 1, 'accident': 1, 'polls': 1, 'unacceptable': 1, 'ominous': 1, 'pat@rwing.uucp': 4, 'internal': 1, 'unthinkingly': 1, '3535': 1, 'safe': 2, 'guise': 1, 'warning': 1, 'mexico': 1, 'identified': 2, 'flag': 1, 'health': 1, 'amerikan': 1, 'apart': 1, 'rules': 2, 'duplicate': 1, 'hurry': 1, 'encode': 1, 'passport': 1, 'super-computer': 1, '<1993apr21.001230.26384@lokkur.dexter.mi.us>': 1, '<strnlghtc5wcmo.fx5@netcom.com>': 2, 'dissonant': 1, '<c5uvn4.mf7@austin.ibm.com>': 2, 'recognition': 1, 'frontal': 2, 'encryped': 2, 'russell': 1, 'faith': 2, 'tricks': 1, 'idle': 1, 'cleartext': 2, 'used--a': 1, 'weeks': 2, 'ag': 1, 'lucky': 2, 'cracking': 2, 'respect': 2, 'message-specific': 1, 'appalling': 1, 'previously': 2, 'vaction': 2, \"here's\": 1, 'dunno': 1, '17:59': 1, '15744': 1, 'arussell@austin.ibm.com': 1, '2623': 1, 'desktop': 1, 'bright': 1, 'published': 2, 'couple': 2, 'blackmail': 1, 'installed': 1, '.\\n.': 1, 'button': 1, 'single-key': 1, 'unlocks': 1, '.\\n.\\n.': 1, 'rounds': 1, 'codebook': 1, 'admit': 1, 'allows': 1, 'fine': 3, 'andrew.cmu.edu': 3, '14:51': 1, 'pittsburgh': 4, 'scrambling': 1, 'modes': 1, 'chosen': 2, '<jb7m+@andrew.cmu.edu>': 1, '92': 1, 'negotiate': 1, 'supports': 1, 'mbits': 1, 'defeat': 2, '<0fpizbg00wc70qokyw@andrew.cmu.edu>': 1, 'embedded': 1, 'jb7m': 1, 'concatenated': 1, 'alot': 1, 'bribery': 1, 'pa': 3, 'negotiation': 1, 'ideas': 1, 'runs': 1, 'jon': 2, 'ecb': 1, 'robotics': 1, 'compared': 1, 'deliberately': 1, 'carnegie': 3, 'ticks': 1, 'digitized': 3, \"u's\": 1, 'length': 1, 'mellon': 3, 'revised': 3, 'k': 2, 'mode': 1, 'harder': 2, 'grinding': 1, '64': 1, 'disaster': 1, 'undefined': 1, 'seattle': 3, 'infinite': 3, 'rwing': 3, '17122': 1, '2091': 1, '1-207': 3, '3538': 1, 'fee': 1, 'virtue': 1, 'ucc': 3, 'elimination': 1, 'wa': 3, 'albert': 3, '<2091@rwing.uucp>': 1, '<g>': 1, '<1r21t1$4mc@access.digex.net>': 1, 'redeeming': 1, 'news.u.washington.edu': 1, 'wisdom': 3, 'reed': 1, 'outlived': 1, '1697': 1, 'einstien': 3, '1626': 1, '<c5so84.hxv@demon.co.uk>': 2, '15748': 1, 'human': 3, '10084': 1, 'netnews.nwnet.net': 2, 'ole': 2, 'spiff.seattleu.edu': 2, 'universe': 3, 'pilchuck': 3, 'consideration': 3, 'usefulness': 1, 'unorganized': 3, 'prejudice': 3, 'landed': 1, 'perfidious': 1, 'thebes': 2, '15:04': 1, 'fat': 1, 'ellison': 3, 'terminus': 1, '19:35': 1, 'bkw': 2, '<bontchev.735336144@fbihh>': 1, 'm3': 2, 'cme@sw.stratus.com': 2, 'boulevard': 2, '01752-1298': 2, 'speaker': 1, 'marlborough': 2, '17125': 1, 'cme@ellisun.sw.stratus.com': 3, 'tommorrow': 1, '<15469@optilink.com>': 1, 'arrive': 1, 'harmful': 3, 'nevertheless': 1, '(508)624-7488': 2, 'cme': 2, 'ellisun.sw.stratus.com': 2, '(508)460-2783': 2, 'holding': 1, '15755': 1, 'listening': 1, 'ship': 1, '<1r6s1f$c4d@transfer.stratus.com>': 1, 'fairbanks': 2, 'circuit': 1, 'maybe': 4, 'circuitry': 1, '75': 1, 'sequence': 1, 'physical': 1, 'denning@guvax.acc.georgetown.edu': 2, 'fox': 3, '<strnlghtc5wc3z.erw@netcom.com>': 2, 'interrogate': 1, 'phobos': 1, '<1993apr21.225435.6292@wam.umd.edu>': 2, 'tip': 2, 'located': 1, 'rolm': 1, 'insure': 1, 'sgi': 1, 'metalization': 1, 'intelligence': 3, 'koontzd': 1, 'edited': 1, 'pin': 2, '15759': 1, 'layer': 1, 'inside': 2, '78': 2, 'netlist': 1, '05': 1, 'hook': 1, 'koontzd@phobos.lrmsc.loral.com': 1, 'news@wdl.loral.com': 1, 'programmed': 1, 'foxes': 1, 'dead': 3, 'rang': 1, '<1993apr22.200205.15384@wdl.loral.com>': 1, 'myk': 2, 'mil-spec': 1, 'suspicious': 1, 'wdl': 1, 'laptop': 2, 'computers': 1, 'distribute': 1, 'offs': 1, 'gate': 1, 'incoming': 1, 'investigated': 1, '<1r4e9d$pdo@sol.tis.com>': 2, 'sharing': 1, 'loral': 1, 'blind': 1, 'chickens': 2, 'advertised': 1, 'scif': 1, 'compartmented': 1, 'piggyback': 2, 'pins': 1, 'model': 1, 'front': 2, 'acknowledgment': 1, 'trusting': 2, 'koontz': 1, 'wallet': 1, 'shame': 1, '20:02': 1, '300': 1, 'microscope': 1, 'doubleplusgoodnot': 1, 'filter': 1, '2ef221': 1, 'upcoming': 1, '1e': 1, '2628': 1, 'undergo': 1, 'news.ucdavis.edu': 2, 'transparent': 1, 'd1': 1, '<93112.16275734aej7d@cmuvm.bitnet>': 1, 'f3': 1, 'grady@netcom.com': 1, 'ac': 1, '<gradyc5wqea.8qx@netcom.com>': 1, '4f': 1, 'eliminate': 1, 'concealed': 1, 'capriccioso': 1, '22:56': 1, '3d': 1, 'ef221': 1, 'fba': 1, 'canonical': 1, 'e2': 1, 'axis': 1, 'textual': 1, 'recent': 1, 'cyphertext': 2, '34aej7d@cmuvm.bitnet': 1, 'fc': 1, 'convinced': 1, '2f': 1, '15783': 1, 'grady': 1, 'non-obvious': 1, 'f7': 1, 'revisions': 1, 'c6': 1, 'documents': 1, '1016/2': 1, 'reduction': 1, 'd3': 1, 'overreacting': 2, '15786': 1, '<1993apr22.171255.19707@rick.dgbt.doc.ca>': 1, 'pen': 1, '17136': 1, '1631': 1, 'lawbook': 1, 'disruptive': 1, '18:55': 1, 'keyboard': 1, 'maximum': 1, '3542': 1, '10090': 1, '<1993apr22.134214.18517@rick.dgbt.doc.ca>': 1, '<1r6g1n$rvb@access.digex.net>': 1, '1700': 1, '<1r77ph$66i@access.digex.net>': 1, 'knees': 1, 'contemplating': 1, 'resources': 3, 'distrusting': 1, 'wishes': 1, '2630': 1, 'psionic@wam.umd.edu': 1, 'unfortunate': 1, 'writer': 1, 'contrary': 1, 'cold': 1, '<apr23.012125.81689@yuma.acns.colostate.edu>': 1, 'lips': 1, 'doug': 2, ':8': 4, 'beethoven.cs.colostate.edu': 1, 'speculation': 1, 'paranoid': 1, '01:21': 1, 'casts': 1, 'pry': 1, 'news@yuma.acns.colostate.edu': 1, 'seemingly': 1, 'showing': 1, 'coincidence': 1, 'depends': 1, '15793': 1, 'yuma': 1, 'posts': 1, 'parenthesized': 1, 'judgements': 1, 'psionic': 1, 'phrasing': 1, 'letters': 1, 'firm': 1, 'creators': 1, 'tries': 1, '<ofpppcs00iuy0_k3mr@andrew.cmu.edu>': 1, '15800': 1, 'junior': 2, 'ludwick': 2, '2632': 1, 'availibility': 1, 'mechanical': 2, 'currently': 1, 'po5.andrew.cmu.edu': 1, '22:39': 1, '36': 1, '<sl3b+@andrew.cmu.edu>': 2, 'sale': 1, 'sl3b': 2, 'everybody': 1, 'greatly': 1, 'pointers': 1, 'jgfoot@minerva.cis.yale.edu': 2, 'encryption-only': 2, '<1r3jgbinn35i@eli.cs.yale.edu>': 2, '22:06': 1, '17139': 1, '<1r74ta$hcs@transfer.stratus.com>': 2, 'seperable': 2, '15805': 1, 'paraphrase': 2, '6620': 1, '2633': 1, '17140': 1, 'alt.privacy': 3, 'outlaws': 1, '23:47': 1, 'po3.andrew.cmu.edu': 1, '<ifpqp1e00iuy0_k8di@andrew.cmu.edu>': 1, '15806': 1, 'banned': 1, 'slam': 1, 'comma': 1, 'limbaugh': 1, 'alt.rush': 1, '12345.6789@compuserve.com': 1, 'linbaugh': 1, '<apr22.185314.14420@yuma.acns.colostate.edu>': 1, '15827': 1, 'rush': 1, 'wis': 1, 'ego': 1, 'compuserve': 1, 'muskego': 1, '17149': 1, 'ricevos': 1, 'air': 2, 'dot': 1, 'rsilvers@nynexst.com': 1, 'kaj': 1, '2.33': 1, 'woods': 1, '23095': 1, 'enposxtigu': 1, 'vi': 1, 'bildkarton': 1, 'alt.fan.rush': 1, 'recall': 1, '12345,6789': 1, 'ricxjo': 1, 'postcard': 1, 'alion': 1, 'silvers': 1, '<1993apr22.194121.25386@nynexst.com>': 1, '53150': 1, 'muelisto': 1, '12:00': 1, '<1r8lokinne95@uwm.edu>': 1, '16203': 1, '<ricxjo@discus.mil.wi.us>': 1, '23678': 1, '129.89': 1, '1635': 1, '15829': 1, \"poster's\": 1, '05@visicom.com': 1, 'vnet.ibm.com': 1, 'wow': 1, '<19930423.061532.245@almaden.ibm.com>': 1, 'ureply': 1, 'news-software': 1, 'russotto': 1, 'views': 4, 'russotto@vnet.ibm.com': 1, '09:11': 1, 'matthew': 1, '3.1': 1, '<a_rubin.735496128@dsg4.dse.beckman.com>': 2, '<strnlghtc5who2.1fk@netcom.com>': 2, 'promises': 1, '10098': 1, 'representative': 2, '49': 1, '412 338 4474': 1, 'imo': 1, '617-623-3534': 1, 'net.opinion': 1, '<c5wjca.3bm@world.std.com>': 1, 'setting': 3, '2650': 1, 'regain': 1, 'renounce': 1, '15837': 1, '14:33': 1, 'lyle': 1, '15219': 1, '<1993apr22.185330.20976@zip.eecs.umich.edu>': 1, 'sometime': 1, 'cool': 1, 'hopefully': 1, 'alt.fan.david': 1, 'transarc': 1, '<sfpzmnz0bwwbmdwhuc@transarc.com>': 1, 'mainframe': 1, 'tower': 1, 'pc': 1, 'mainstream': 1, 'gulf': 1, 'hello': 2, '98': 1, 'keeper': 1, '<c5xxsf.1z8@world.std.com>': 1, 'tolerance': 1, 'bespeak': 1, '707': 1, 'unfortuantely': 1, 'lyle_seaman@transarc.com': 1, 'hannigan': 1, 'net.police': 1, 'twisted': 1, 'martin@world.std.com': 1, 'doesnt': 1, 'mac': 1, 'isolate': 2, 'hp-vcd': 2, 'resistent': 2, 'fund': 3, '15851': 1, 'accountability': 2, '102': 1, 'hewlett-packard': 1, 'deliver': 2, 'funded': 2, 'robichau@lambda.msfc.nasa.gov': 2, 'eaton': 2, '<c5y746.73k@vcd.hp.com>': 2, 'robichaux': 2, 'goverment': 2, 'johne@vcd.hp.com': 2, 'interferance': 2, '<1993apr19.154938.1203@lambda.msfc.nasa.gov>': 2, 'nra': 3, 'suggestions': 3, 'create': 2, 'controlled': 2, 'pre-nazi': 2, 'vcd': 1, 'instructions': 2, 'johne': 2, 'overtly': 2, 'congressman': 2, 'pressure': 2, 'forever': 2, 'challenge': 2, '17:55': 1, 'expedient': 2, 'refuse': 2, 'hitler': 2, 'news@vcd.hp.com': 1, 'hp-pcd': 1, 'valid': 4, 'overlooked': 2, 'hp-cv': 1, 'cra': 1, 'crypto-lobbying': 1, 'galileo.cc.rochester.edu': 1, 'hcs@transfer.stratus.com': 1, 'signal.ece.clarkson.edu': 1, 'push': 1, '<1993apr23.195051.16862@news.clarkson.edu>': 1, '19:50': 1, 'offshoot': 1, '51': 1, 'tuinstra@signal.ece.clarkson.edu.soe': 1, 'slogan': 1, 'educate': 1, 'building': 1, 'servers': 1, 'dba': 1, 'curry': 1, 'refine': 1, 'rfc': 1, 'verify': 3, '_if_': 1, 'trail': 1, 'responded': 1, 'considerations': 1, 'risks': 1, 'manual': 1, 'addison-welsey': 1, 'define': 1, 'installations': 1, 'advised': 1, 'substantiate': 1, 'fw': 1, 'substantial': 1, 'track': 2, 'table': 1, '#1281': 1, 'os': 2, 'relying': 2, 'auditing': 1, '_could_': 1, 'brookline': 1, 'ops': 1, '1992': 1, 'host': 1, '21:09': 1, 'cracker': 1, 'v6': 1, 'granularity': 1, 'alerting': 1, 'guessable': 1, 'checking': 1, 'responses': 1, 'usage': 1, 'severity': 1, 'rdbms': 1, 'depend': 3, 'oracle': 1, 'nix': 1, 'authentication': 1, 'orasrv': 1, 'unknown': 1, '3550': 1, 'scientific': 1, '4258': 1, 'option': 1, 'surface': 1, 'environment': 2, '<c5yg4i.hx2@world.std.com>': 1, 'networked': 1, 'mechanisms': 1, 'discussed': 1, 'ensuring': 1, 'whitcher': 1, 'internally': 1, 'presume': 1, 'watertown': 1, \"pc's\": 1, 'forrest': 1, '68': 1, 'scratch': 1, \"mechanism's\": 1, 'specifically': 1, '15868': 1, 'raw': 1, 'comp.databases.oracle': 1, 'sic': 2, 'native': 1, 'archive': 1, 'fw@world.std.com': 1, '_least_': 1, '<strnlghtc5yikf.5eq@netcom.com>': 1, 'shhh--coke': 1, 'phosphoric': 1, 'drinkers': 1, 'acid': 1, '39': 1, '22:02': 1, 'analogies': 1, '<116664@bu.edu>': 1, 'coke': 1, 'meant': 1, '10:24': 1, 'qmw': 1, '<9304211024.aa21842@pizzabox.demon.co.uk>': 1, 'warwick': 1, 'fun': 1, 'dictionary': 1, 'binary': 1, 'qmw-dcs': 1, 'pyramid': 1, 'mutual': 1, \"fbi's\": 1, '<15582@optilink.com>': 2, 'clayton': 1, '114': 1, 'contradicted': 1, '15895': 1, 'petaluma': 1, 'honest': 1, 'doj': 1, 'relations': 1, 'optilink': 1, 'allegations': 1, 'investigating': 1, 'cramer@optilink.com': 1, 'believing': 1, 'cramer': 1, 'well-behaved': 1, 'chances': 1, '23:36': 1, 'corporation': 4, 'avon.demon.co.uk': 1, 'tones': 1, 'uk.telecom': 1, 'peter@memex.co.uk': 1, 'h': 1, '<735512715snz@avon.demon.co.uk>': 1, 'babt': 1, '1.21': 2, 'syncing': 1, '1.90': 2, 'ilieve': 1, 'suffer': 1, 'auto-monitor': 1, 'mike@avon.demon.co.uk': 1, 'key-esc': 1, '<1993apr21.131510.3215@memex.co.uk>': 1, 'dis': 2, 'boring': 1, 'stores': 1, 'demodulates': 1, 'authorised': 1, 'comms': 1, '21:05': 1, 'ka9q': 2, 'pickup': 1, 'intermediate': 1, '116': 1, 'feustel@netcom.com': 1, '<feustelc5znaj.5sm@netcom.com>': 1, '<feustel@netcom.com>': 1, 'dafco': 1, 'n9myi': 1, 'rabies': 1, 'feustel': 1, '12:42': 1, '15919': 1, 'dave': 2, 'identifiers': 1, 'aristophanes': 1, 'dear': 1, \"industry's\": 1, 'adopt': 1, 'autonomy': 1, 'thank': 1, 'obsolete': 1, 'intrusion': 1, 'project': 3, 'convenience': 2, 'trading': 1, 'permit': 1, 'respects': 1, 'areas': 1, 'transactions': 1, 'director': 1, '(212) 944-9800': 1, 'pressed': 1, '122': 1, 'acts': 1, 'movement': 1, 'chair': 1, 'limits': 2, 'desire': 1, 'counsel': 1, 'prompt': 1, 'universal': 1, 'paranoia': 1, 'society': 1, '108': 1, 'jerry': 1, 'nobody@alumni.cco.caltech.edu': 1, 'finally': 1, 'publication': 1, 'generated': 1, '1985': 1, 'legislative': 1, 'holmes': 1, 'direrector': 1, '10:38': 1, 'member': 1, 'remains': 2, '19o9': 1, 'linkage': 1, 'disobey': 1, 'opt': 1, '132': 1, 'eleanor': 1, 'consented': 1, 'consensus': 1, 'enact': 1, 'enforce': 1, 'norman': 1, 'lawt': 1, '43rd': 1, 'york': 2, 'pseudonymous': 1, 'expend': 1, 'union': 1, 'berman': 1, '10036': 1, 'simplicity': 1, '0500': 1, 'amsterdam': 1, 'customers': 2, 'judical': 1, 'substitute': 2, 'adopted': 1, 'purely': 1, 'maryland': 1, 'ne': 1, '4079': 1, '<9304241538.aa10342@alumni.cco.caltech.edu>': 1, 'invade': 1, 'ab': 1, 'daemon@cs.utexas.edu': 1, 'override': 1, 'interception': 1, '20002': 1, 'west': 1, 'utexas': 1, 'norton': 1, 'practicality': 1, 'dc': 2, 'undereducated': 1, 'headquarters': 1, 'centre': 1, 'mail-to-news': 1, 'requiring': 1, 'societal': 1, 'avoid': 1, 'ira': 1, 'chaum': 1, 'chief': 2, 'offers': 1, 'congratulate': 1, 'glasser': 1, 'preserve': 1, 'dorsen': 1, 'principle': 1, 'printn': 1, 'shattuck': 1, 'news@ringer.cs.utsa.edu': 1, 'deny': 1, '<1993apr22.132638.19448@ringer.cs.utsa.edu>': 3, 'manpower': 1, 'ringer': 1, 'noted': 2, '02:40': 1, 'sensor': 1, 'electrically-noisy': 2, '1649': 1, 'directional': 1, 'lonestar.utsa.edu': 1, '17205': 1, '<1993apr25.024032.26935@ringer.cs.utsa.edu>': 1, '<1993apr22.105915.5584@infodev.cam.ac.uk>': 2, 'whughes@lonestar.utsa.edu': 2, '1713': 1, '10124': 1, '3563': 1, 'antonio': 1, 'array': 1, 'jammer': 2, 'tempest': 4, 'texas': 1, '<1993apr24.233742.26839@lehman.com>': 2, '_very_': 2, 'phased': 1, '15953': 1, 'whughes': 1, 'spark': 2, 'jhesse': 1, 'untrustworthy': 1, '<strnlghtc5toc6.kiu@netcom.com>': 1, 'awards': 1, 'canal': 1, 'settles': 1, 'calif': 1, 'moss': 1, 'behavoir': 1, 'waterhouse': 1, '<jhessec60up0.bu@netcom.com>': 1, 'er': 1, '2696': 1, 'beach': 1, '<930419.205122.1b6.rusnews.w165w@metatron.uucp>': 1, '04:19': 1, '<1r0nov$p3e@access.digex.net>': 1, 'academy': 1, '15955': 1, 'confisticated': 1, '>:-)': 1, '<rdippold.735721739@qualcom>': 1, 'naivete': 1, 'trashes': 1, 'repair': 1, '07:08': 1, 'stretching': 1, 'atf': 1, '<930424031634.176183@dockmaster.ncsc.mil>': 1, 'minds': 2, '<strnlghtc5z0pw.blh@netcom.com>': 1, 'walter': 1, 'barry': 1, 'raid': 1, 'peterg@kcbbs.gen.nz': 1, 'dissuade': 1, 'friends': 1, \"em's\": 1, 'p_gutmann@cs.aukuni.ac.nz': 1, 'preference': 1, '<1993apr25.140334.19872@cs.aukuni.ac.nz>': 1, 'cause': 2, 'emissions': 3, 'wideband': 1, '<1993apr20.034724.3748@colnet.cmhnet.org>': 1, '4am': 1, '3566': 1, 'chancy': 1, 'balancing': 1, 'peter@phlarnschlorpht.nacjack.gen.nz': 1, 'older-model': 1, 'trs': 1, 'piped': 1, '10129': 1, 'farrady': 1, '17219': 1, 'cretainly': 1, '<1993apr21.172614.10185@lehman.com>': 1, 'alarm': 1, 'remote': 1, '14:03': 1, 'interference': 1, 'mask': 1, 'reception': 1, '15967': 1, 'gutmann_p@kosmos.wcc.govt.nz': 1, 'changed': 1, 'neighbourhoods': 1, 'knock': 1, 'sufficient': 1, 'active': 1, 'room': 1, 'peter@nacjack.gen.nz': 1, 'cage': 1, 'monitoring': 1, 'tv': 2, '206-882-8080': 1, 'argument': 1, \"she's\": 1, '83-8101': 1, '<9304221116.aa02093@pizzabox.demon.co.uk>': 1, 'replying': 1, 'gideony': 1, '<1993apr25.193300.1707@microsoft.com>': 1, 'disgusting': 1, 'yuval': 1, 'gideony@microsoft.com': 1, 'gutter': 1, 'stopped': 1, 'head': 2, 'denning@cs.georgetown.edu': 1, 'forwarding': 1, '19:33': 1, 'getting': 1, 'gideon': 1, 'hellman': 1, 'prof': 1, 'scholars': 1, 'hexnut': 1, 'toasted': 1, 'denning@cs.cosc.georgetown.edu': 1, 'twx': 1, 'positions': 1, ':-8': 1, '160520': 1, 'substance': 1, 'microsoft': 1, 'harm': 1, 'patsy': 1, 'odds': 1, 'inadvertently': 1, 'telecom': 1, '<rdippold.735595213@qualcom>': 1, 'mobile': 1, 'dougb@nwu.edu': 1, 'ordered': 1, 'dougb@comm.mot.com': 1, 'schaumburg': 1, 'comp.dcom.telecom': 1, 'motorola': 1, 'dougb@casbah.acns.nwu.edu': 1, 'bank': 1, 'comm.mot.com': 1, 'division': 1, 'recently': 1, 'mothost': 1, '145.1': 1, 'lmpsbbs': 1, 'increased': 1, 'mdisea': 1, 'costs': 2, '708-576-8207': 1, 'subcommittee': 1, 'introduced': 1, 'hoping': 1, 'land': 1, '133': 1, 'lesreeves@attmail.com': 1, 'news@lmpsbbs.comm.mot.com': 1, 'brown': 1, '<1993apr26.140946.29202@lmpsbbs.comm.mot.com>': 1, 'exempt': 2, '16013': 1, '14:09': 1, 'markey': 1, 'dougb@ecs.comm.mot.com': 1, '146.35': 1, '4/20': 1, 'chairman': 1, 'dougb': 1, 'foghorn_leghorn': 1, 'ross': 1, 'crts': 2, '<1993apr26.193801.12416@lynx.dac.northeastern.edu>': 2, 'blue': 1, '19:38': 1, 'bigboy.sbc.com': 1, 'becuase': 2, 'stars': 1, 'controller': 2, 'sitting': 1, 'angel@foghorn_leghorn.coe.northeastern.edu': 2, '10152': 1, 'refute': 2, 'kirill': 1, '16026': 1, 'god': 1, 'shielded': 1, '<1993apr26.104320.10398@infodev.cam.ac.uk>': 1, 'production': 1, 'news.mtholyoke.edu': 1, 'marketing': 1, 'radiation': 2, 'usenet@lynx.dac.northeastern.edu': 1, 'monitors': 1, 'pick-up': 2, 'kit': 1, 'dollars': 1, 'sticker': 1, 'shklovsky': 1, 'epidemic': 1, 'angel': 1, 'rja14@cl.cam.ac.uk': 1, 'screens': 1, 'prototype': 1, 'receivers': 1, 'picked-up': 2, 'dummy': 1, 'bench': 1, 'hugely': 1, 'assertion': 1, 'coe.northeastern.edu': 1, '94022': 1, 'citations': 1, 'deeply': 1, 'hills': 1, 'eric': 1, 'oaks': 1, 'cash': 1, 'ms': 1, 'sj': 1, 'sgiblab': 1, 'sfcsun': 1, 'college': 1, 'los': 1, 'weaver': 1, 'jose': 1, '677': 1, 'river': 1, '<1993apr26.134853@kuttner.sfc.sony.com>': 1, '@kuttner': 1, 'sony': 1, 'weaver@kuttner.sfc.sony.com': 1, '95134': 1, '89.7': 1, 'grateful': 1, '408 944-4904': 1, 'pkwy': 1, 'enquiring': 1, 'avtc': 1, 'kfjc': 1, 'altos': 1, 'foothill': 1, '+1-908-949-0705': 1, '21:28': 1, '17247': 1, 'restated': 1, 'saimiri.primate.wisc.edu': 2, 'capstone': 2, '<15583@optilink.com>': 1, 'ahold': 1, 'jrbd': 1, '<1993apr26.212838.20029@craycos.com>': 1, 'aspen.craycos.com': 1, '16036': 1, 'presumably': 1, 'super-encryption': 1, 'directions': 1, 'inquisitors': 1, 'worst-case': 1, '<wcs.93apr26141950@rainier.att.com>': 1, '<1993apr26.145937.3570@wdl.loral.com>': 1, 'wcs@anchor.ho.att.com': 1, \"clipper's\": 1, 'amplified': 1, 'copper': 1, 'law-enforcement': 1, 'near-real-time': 1, 'jrbd@craycos.com': 1, 'conceal': 1, 'impression': 1, 'stewart': 1, '<1993apr26.232333.3752@lehman.com>': 1, 'availble': 1, 'claimed': 2, 'lnes': 1, 'priavte': 1, 'weaker': 1, '138': 1, 'bullshitting': 1, '16039': 1, 'constitutes': 1, 'belonging': 1, 'hour': 1, 'rivate': 1, '<jon@ifi.uio.no>': 1, '2726': 1, 'friend': 1, 'news@lehman.com': 1, 'literature': 1, 'extraordinare': 1, 'lehman.com': 1, '23:23': 1, 'rng': 1, 'kerberos': 1, 'ticket': 1, '<cmm.0.90.2.735554186.jon@gode.ifi.uio.no>': 1, 'spent': 1, 'mnemonic@eff.org': 1, 'ethridge': 1, 'allen': 1, '6665': 1, 'barrett': 1, '<allen.735873202@well.sf.ca.us>': 1, '<1993apr26.063532.10120@eff.org>': 1, '16043': 1, '01:13': 1, 'page': 1, '17252': 1, 'allen@well.sf.ca.us': 1, 'opposes': 1, 'sausalito': 1, '<c614bj.bk6@agora.rain.com>': 1, 'assumptions': 1, 'frontier': 1, 'ddsw': 1, 'eff.org': 1, 'foundation': 1, 'fig@eff.org': 1, 'acknowledged': 1, 'non-governmental': 1, 'arena': 1, 'circles': 1, '16068': 1, 'variously': 1, 'cliff': 1, 'absolutists': 1, '(617)576-4506': 1, '15:19': 1, 'alike': 1, 'usenet@eff.org': 1, 'ahead': 1, 'liabilities': 1, 'fig': 1, 'glass': 1, 'figallo': 1, 'goldfoot': 1, 'attacking': 1, '<1993apr27.151925.11525@eff.org>': 1, '<<*>': 1, 'nntp': 1, 'aggressively': 1, '17261': 1, 'clout': 1, 'share': 1, 'communists': 1, '142': 1, 'complained': 1, 'suppliers': 1, 'skapegoat': 1, 'verboten': 1, '19:37': 1, \"hasn't\": 1, 'funny': 1, 'scandal': 1, 'itar': 1, 'spiffy': 1, 'aerostats': 1, 'hurt': 1, 'aside': 1, 'usenet.coe.montana.edu': 1, '143': 1, '04': 1, 'news.uoregon.edu': 1, 'crucify': 1, '<2121@rwing.uucp>': 1, 'politicians': 2, 'usual': 2, 'muscle': 1, 'stake': 1, 'promise': 1, \"deconcini's\": 1, 'attempts': 1, 'pants': 1, 'noises': 1, 'confiscation': 1, 'jersey': 1, 'forbidden': 1, '55546': 1, 'talk.politics.guns': 1, 'senators': 1, '16085': 1, 'sold': 1, 'hours': 2, 'refrigrator': 1, 'gatekeeper.nsc.com': 1, 'bend': 1, 'flexible': 1, 'kids': 1, 'news@voder.nsc.com': 1, 'hobby': 1, '1/4-': 1, 'ling': 1, 'shake': 1, 'santa': 1, 'do-it-yourself': 1, '1040': 1, 'jamesl': 1, 'lu': 1, 'coldness': 1, 'prolong': 1, '21:32': 1, 'illumination': 1, 'nsc': 1, 'x3702': 1, 'voder': 1, 'sci.chem.organomet': 1, 'diameter': 1, 'sci.misc': 1, 'jamesl@galaxy.nsc.com': 1, 'parks': 1, 'illuminate': 1, 'inch': 1, 'illuminating': 1, 'tube': 1, 'gallium.nsc.com': 1, 'ourself': 1, 'shop': 1, '16088': 1, 'sci.engr.chem': 1, '12409': 1, 'clara': 1, '170': 1, '<c65vtk.11m@voder.nsc.com>': 1, 'sci.chem': 1, 'brightness': 1, 'evenings': 1, 'hplabs': 1, 'semiconductor': 1, '1346': 1, 'sci.cryonics': 1, 'combined': 1, 'speculate': 1, 'sward': 1, 'walker': 1, 'confident': 1, 'amanda@intercon.com': 1, '<1rnnvh$mv5@news.intercon.com>': 1, 'myktotronx': 1, 'herndon': 1, 'chaos.intercon.com': 1, 'curiousity': 1, 'refers': 1, 'least-effort': 1, '2756': 1, ':)': 1, 'amanda': 1, 'elephants': 1, 'pin-compatible': 1, '16117': 1, 'designation': 1, 'stu-iii': 1, 'hallucinating': 1, '6682': 1, 'piqued': 1, '<sward+@cmu.edu>': 1, 'intercon': 1, 'louie': 1, 'encipherment': 1, 'ii': 1, 'type': 1, 'nonexistent': 1, 'reeve': 1, '06:08': 1, 'field-proven': 1, 'tappable': 1, 'cleared': 1, 'invisible': 1, 'fuzzy': 1, 'pink': 1, '<sfrnvos00uh7a_dgle@andrew.cmu.edu>': 1, 'matches': 1, 'walking': 1, 'bulk': 1, 'capable': 1, 'complimentary': 1, 'supportive': 1, 'generally': 1, 'dhesi': 1, 'spin': 1, '02:07': 1, 'crucified': 1, 'beauty': 1, 'alone': 1, 'newspapers': 1, 'restrictive': 1, 'hypocrite': 1, 'inform': 1, 'care-of-you-think-for-you-cradle-to-grave': 1, 'refuses': 1, 'intense': 1, 'double-standard': 1, 'elements': 1, 'fellow': 1, 'nwnexus': 1, 'phrased': 1, 'pie-in-sky': 1, 'swim': 1, 'foisted': 1, 'newsstand': 1, 'affairs': 1, 'informative': 1, 'shot': 1, 'dhesi@cirrus.com': 1, 'connections': 1, 'dhesi@rahul.net': 1, 'dismiss': 1, 'publications': 1, 'interpret': 1, 'eloquent': 1, 'pundits': 1, 'picked': 1, 'sight': 1, '<c62el4.4i4@rahul.net>': 1, 'daring': 1, 'newsweek': 1, 'owned': 1, 'folk': 1, 'center-left': 1, '<dhesi@rahul.net>': 1, 'insulated': 1, '<116530@bu.edu>': 1, 'dig': 1, 'families': 1, 'expressing': 1, 'pushed': 1, 'less-than': 1, 'statist': 1, 'tend': 1, 'editors': 1, 'bother': 1, 'spend': 1, '<2109@rwing.uucp>': 1, 'we-will-take': 1, 'understanding': 1, 'arrogance': 1, 'well-connected': 1, 'violating': 1, 'objective': 1, 'major': 2, 'pockets': 1, 'feels': 1, 'wealth': 1, 'jacuzzi': 1, 'lies': 1, 'clarirvoyant': 1, 'peons': 1, 'notices': 1, 'tells': 1, 'privilege': 1, 'doctors': 1, 'medium': 1, 'unaware': 1, 'dovetailed': 1, 'compound': 1, 'polticial': 1, 'medis': 1, 'rahul': 1, 'digging': 1, 'deep': 1, 'illegally': 1, '<2124@rwing.uucp>': 1, 'upset': 1, 'informed': 1, 'contributer': 1, 'journalist': 1, 'resource': 1, 'trade': 1, 'swimmer': 1, 'journals': 1, 'covered': 1, 'cut-down': 1, 'particularly': 1, 'eloka': 1, 'tele': 1, 'magnetic': 1, 'shared': 1, 'card': 1, 'mcsun': 1, 'emission': 1, 'electrical': 1, 'crudest': 1, 'lewis': 1, 'electromagnetism': 1, 'hazard': 1, 'nato': 1, 'consultancy': 1, 'gross': 1, 'meet': 1, 'measuring': 1, 'driver': 1, 'clone': 1, 'printer': 1, 'dotmatrix': 1, '08:38': 1, 'conduction': 1, '<735813539snz@eloka.demon.co.uk>': 1, 'owen': 1, 'electrons': 1, 'inadvertent': 1, 'cable': 1, 'flow': 1, 'leaked': 1, 'crt': 1, 'briefings': 1, 'afaik': 1, '16135': 1, 'eighties': 1, 'eloka.demon.co.uk': 1, 'institutions': 1, 'invited': 1, 'codeword': 1, 'electromagnetic': 1, 'levels': 1, '0)794-3017': 1, 'led': 1, '10180': 1, 'conducts': 1, 'oml': 1, 'stansard': 1, 'oml@eloka.demon.co.uk': 1, 'exploited': 1})\n"
     ]
    }
   ],
   "source": [
    "selected_category = 'data/mini_newsgroups/sci.crypt/'\n",
    "print(selected_category)\n",
    "tokenized_dataset = prepare_dataset(selected_category)\n",
    "print(\"Sample tokenized document:\")\n",
    "print(tokenized_dataset[0][:10])\n",
    "\n",
    "df = document_frequency(tokenized_dataset)\n",
    "print(df)"
   ]
  },
  {
   "cell_type": "code",
   "execution_count": 20,
   "metadata": {},
   "outputs": [
    {
     "name": "stdout",
     "output_type": "stream",
     "text": [
      "Most common words:\n",
      "[('subject', 100), ('message-id', 100), ('cantaloupe.srv.cs.cmu.edu', 100), ('date', 100), ('path', 100), ('from', 100), ('apr', 100), ('sci.crypt', 100), ('newsgroups', 100), ('lines', 99)]\n",
      "Least common words:\n",
      "[('electromagnetic', 1), ('levels', 1), ('0)794-3017', 1), ('led', 1), ('10180', 1), ('conducts', 1), ('oml', 1), ('stansard', 1), ('oml@eloka.demon.co.uk', 1), ('exploited', 1)]\n"
     ]
    }
   ],
   "source": [
    "\n",
    "print(\"Most common words:\")\n",
    "print(Counter(df).most_common(10))\n",
    "print(\"Least common words:\")\n",
    "print(Counter(df).most_common()[-10:])"
   ]
  },
  {
   "cell_type": "markdown",
   "metadata": {},
   "source": [
    "## __Questions__: \n",
    "- Which words have highest and which lowest Total freq?\n",
    "- What are some examples of inverted indexes we have seen in life?\n",
    "- Why do we use inverted indexes?"
   ]
  },
  {
   "cell_type": "markdown",
   "metadata": {},
   "source": [
    "![Sort-Based-Index](img/sort-based-method.png)"
   ]
  },
  {
   "cell_type": "markdown",
   "metadata": {},
   "source": [
    "# What's next in research:\n",
    "\n",
    "- <a href='http://nbjl.nankai.edu.cn/Lab_Papers/2018/SIGIR2018.pdf'>Index Compression for BitFunnel Query Processing</a>\n",
    "- <a href='https://link.springer.com/chapter/10.1007/978-3-319-76941-7_47'>Inverted List Caching for Topical Index Shards</a>\n"
   ]
  }
 ],
 "metadata": {
  "kernelspec": {
   "display_name": "Python 3 (ipykernel)",
   "language": "python",
   "name": "python3"
  },
  "language_info": {
   "codemirror_mode": {
    "name": "ipython",
    "version": 3
   },
   "file_extension": ".py",
   "mimetype": "text/x-python",
   "name": "python",
   "nbconvert_exporter": "python",
   "pygments_lexer": "ipython3",
   "version": "3.12.4"
  },
  "toc": {
   "base_numbering": 1,
   "nav_menu": {},
   "number_sections": true,
   "sideBar": true,
   "skip_h1_title": false,
   "title_cell": "Table of Contents",
   "title_sidebar": "Contents",
   "toc_cell": false,
   "toc_position": {},
   "toc_section_display": true,
   "toc_window_display": false
  }
 },
 "nbformat": 4,
 "nbformat_minor": 4
}
