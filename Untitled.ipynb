{
 "cells": [
  {
   "cell_type": "code",
   "execution_count": 1,
   "id": "92222243",
   "metadata": {},
   "outputs": [
    {
     "name": "stdout",
     "output_type": "stream",
     "text": [
      "Collecting scrapy-splash\n",
      "  Downloading scrapy_splash-0.8.0-py2.py3-none-any.whl (27 kB)\n",
      "Installing collected packages: scrapy-splash\n",
      "Successfully installed scrapy-splash-0.8.0\n",
      "Note: you may need to restart the kernel to use updated packages.\n"
     ]
    }
   ],
   "source": [
    "pip install scrapy-splash"
   ]
  },
  {
   "cell_type": "code",
   "execution_count": null,
   "id": "d428c5f6",
   "metadata": {},
   "outputs": [],
   "source": []
  }
 ],
 "metadata": {
  "kernelspec": {
   "display_name": "Python 3 (ipykernel)",
   "language": "python",
   "name": "python3"
  },
  "language_info": {
   "codemirror_mode": {
    "name": "ipython",
    "version": 3
   },
   "file_extension": ".py",
   "mimetype": "text/x-python",
   "name": "python",
   "nbconvert_exporter": "python",
   "pygments_lexer": "ipython3",
   "version": "3.9.11"
  }
 },
 "nbformat": 4,
 "nbformat_minor": 5
}
